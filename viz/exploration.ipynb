{
 "cells": [
  {
   "cell_type": "code",
   "execution_count": 1,
   "metadata": {},
   "outputs": [],
   "source": [
    "import re\n",
    "import os\n",
    "import pathlib\n",
    "import json\n",
    "\n",
    "import numpy as np\n",
    "import pandas as pd\n",
    "import matplotlib.pyplot as plt\n",
    "import matplotlib.ticker as ticker\n",
    "from matplotlib import gridspec\n",
    "import seaborn as sns\n",
    "import warnings\n",
    "warnings.simplefilter(action='ignore', category=FutureWarning)\n",
    "sns.set_theme(style=\"darkgrid\")"
   ]
  },
  {
   "cell_type": "code",
   "execution_count": 2,
   "metadata": {},
   "outputs": [],
   "source": [
    "# Root of the project\n",
    "project_dir = pathlib.Path().resolve().parent\n",
    "\n",
    "# Directory containing experiment results\n",
    "results_dir = (pathlib.Path(project_dir) / \"results\").resolve()\n",
    "\n",
    "# Directory for tidied data (output directory)\n",
    "data_dir = (pathlib.Path(project_dir) / \"data\").resolve()\n",
    "\n",
    "# Directory to store all plots\n",
    "plot_dir = (pathlib.Path(project_dir) / \"plots\").resolve()"
   ]
  },
  {
   "cell_type": "code",
   "execution_count": 13,
   "metadata": {},
   "outputs": [
    {
     "data": {
      "text/plain": [
       "experiment        object\n",
       "mesh              object\n",
       "requested_qps     object\n",
       "pod               object\n",
       "container         object\n",
       "cpu              float64\n",
       "mem              float64\n",
       "date              object\n",
       "dtype: object"
      ]
     },
     "execution_count": 13,
     "metadata": {},
     "output_type": "execute_result"
    }
   ],
   "source": [
    "resource_df = pd.read_csv(data_dir / \"resource_results.csv\")\n",
    "resource_df.convert_dtypes()\n",
    "\n",
    "resource_df[\"date\"] = pd.to_datetime(resource_df[\"time\"],unit=\"s\")\n",
    "\n",
    "resource_df = resource_df.astype({\n",
    "    \"experiment\": \"category\",\n",
    "    \"mesh\": \"category\",\n",
    "    \"requested_qps\": \"category\",\n",
    "    \"pod\": \"string\",\n",
    "    \"container\": \"string\",\n",
    "})\n",
    "\n",
    "resource_df.head()"
   ]
  },
  {
   "cell_type": "code",
   "execution_count": 8,
   "metadata": {},
   "outputs": [],
   "source": [
    "fortio_df = pd.read_csv(data_dir / \"fortio_results.csv\")"
   ]
  }
 ],
 "metadata": {
  "kernelspec": {
   "display_name": "Python 3.8.10 64-bit",
   "language": "python",
   "name": "python3"
  },
  "language_info": {
   "codemirror_mode": {
    "name": "ipython",
    "version": 3
   },
   "file_extension": ".py",
   "mimetype": "text/x-python",
   "name": "python",
   "nbconvert_exporter": "python",
   "pygments_lexer": "ipython3",
   "version": "3.8.10"
  },
  "orig_nbformat": 4,
  "vscode": {
   "interpreter": {
    "hash": "31f2aee4e71d21fbe5cf8b01ff0e069b9275f58929596ceb00d14d90e3e16cd6"
   }
  }
 },
 "nbformat": 4,
 "nbformat_minor": 2
}
