{
 "cells": [
  {
   "cell_type": "code",
   "execution_count": 6,
   "metadata": {},
   "outputs": [],
   "source": [
    "import numpy as np\n",
    "import pandas as pd\n",
    "\n",
    "test_file = \"/home/richard/projects/mesh-bench/results/01_http_max_throughput/http_baseline_MAX_0_1_2022-06-20T08:32:57Z.json\""
   ]
  },
  {
   "cell_type": "code",
   "execution_count": 7,
   "metadata": {},
   "outputs": [
    {
     "data": {
      "text/plain": [
       "StartTime                               2022-06-20T08:32:59.487539804Z\n",
       "RequestedQPS                                                       max\n",
       "RequestedDuration                                                15m0s\n",
       "ActualQPS                                                    8746.6817\n",
       "ActualDuration                                            900002111624\n",
       "Count                                                          7872032\n",
       "Min                                                           0.000047\n",
       "Max                                                            0.16879\n",
       "Sum                                                       28795.839311\n",
       "Avg                                                           0.003658\n",
       "StdDev                                                        0.003416\n",
       "Data                 [{'Start': 4.7225e-05, 'End': 0.0001, 'Percent...\n",
       "dtype: object"
      ]
     },
     "execution_count": 7,
     "metadata": {},
     "output_type": "execute_result"
    }
   ],
   "source": [
    "s = pd.read_json(test_file, typ=\"series\")\n",
    "\n",
    "# Filter columns\n",
    "required_cols = [\n",
    "    \"StartTime\",\n",
    "    \"RequestedQPS\",\n",
    "    \"RequestedDuration\",\n",
    "    \"ActualQPS\",\n",
    "    \"ActualDuration\",\n",
    "    \"DurationHistogram\",\n",
    "]\n",
    "\n",
    "s = s[required_cols]\n",
    "\n",
    "# Extract nested columns in 'DurationHistogram'\n",
    "for key, val in s[\"DurationHistogram\"].items():\n",
    "    s[key] = val\n",
    "s = s.drop([\"DurationHistogram\", \"Percentiles\"])\n",
    "\n",
    "\n",
    "s\n"
   ]
  },
  {
   "cell_type": "code",
   "execution_count": 8,
   "metadata": {},
   "outputs": [
    {
     "data": {
      "text/plain": [
       "StartTime                               2022-06-20T08:32:59.487539804Z\n",
       "RequestedQPS                                                       max\n",
       "RequestedDuration                                                15m0s\n",
       "ActualQPS                                                    8746.6817\n",
       "ActualDuration                                            900002111624\n",
       "Count                                                          7872032\n",
       "Min                                                           0.047225\n",
       "Max                                                          168.79017\n",
       "Sum                                                    28795839.311071\n",
       "Avg                                                           3.657993\n",
       "StdDev                                                        0.003416\n",
       "counts               [25198, 92183, 97250, 100720, 104478, 110855, ...\n",
       "percentages          [0.32009524351527, 1.491114365388758, 2.726500...\n",
       "categories           [(0.047225, 0.1], (0.1, 0.2], (0.2, 0.30000000...\n",
       "bins                 [0.047225, 0.1, 0.2, 0.30000000000000004, 0.4,...\n",
       "dtype: object"
      ]
     },
     "execution_count": 8,
     "metadata": {},
     "output_type": "execute_result"
    }
   ],
   "source": [
    "# fortio reports in seconds, convert to miliseconds\n",
    "multiplier = 1000\n",
    "\n",
    "s.loc[[\"Min\", \"Max\", \"Sum\", \"Avg\"]] *= multiplier\n",
    "\n",
    "# Construct Histogram Bins, Counts and Percentiles\n",
    "\n",
    "data = s[\"Data\"]\n",
    "\n",
    "\n",
    "s[\"counts\"] = [x[\"Count\"] for x in data]\n",
    "s[\"percentages\"] = [x[\"Percent\"] for x in data]\n",
    "\n",
    "# Bins (default pd.cut function makes them as categoricals of intervals)\n",
    "# https://pandas.pydata.org/docs/reference/api/pandas.Categorical.html\n",
    "# https://pandas.pydata.org/docs/reference/api/pandas.Interval.html\n",
    "s[\"categories\"]= pd.Categorical([pd.Interval(x[\"Start\"] * multiplier , x[\"End\"] * multiplier) for x in data])\n",
    "s[\"bins\"] = [x.left for x in s[\"categories\"]]\n",
    "s[\"bins\"].append(s[\"categories\"][-1].right)\n",
    "\n",
    "s = s.drop(\"Data\")\n",
    "s"
   ]
  },
  {
   "cell_type": "code",
   "execution_count": 9,
   "metadata": {},
   "outputs": [],
   "source": [
    "# bins = s[\"bins\"]\n",
    "\n",
    "# dir(bins[0])\n",
    "# bins[0].left\n",
    "# # bins[0].right\n",
    "\n",
    "# b = [x.left for x in bins]\n",
    "# b.append(bins[-1].right)\n",
    "# b\n"
   ]
  },
  {
   "cell_type": "code",
   "execution_count": 19,
   "metadata": {},
   "outputs": [
    {
     "data": {
      "image/png": "[encoded data removed]",
      "text/plain": [
       "<Figure size 432x288 with 1 Axes>"
      ]
     },
     "metadata": {},
     "output_type": "display_data"
    }
   ],
   "source": [
    "import matplotlib.pyplot as plt\n",
    "import matplotlib.ticker as ticker\n",
    "import seaborn as sns\n",
    "sns.set_theme(style=\"darkgrid\")\n",
    "\n",
    "\n",
    "fig, ax = plt.subplots()\n",
    "sns.barplot(data=s, x=s[\"bins\"][:-1], y=\"counts\")\n",
    "\n",
    "\n",
    "# ax.set_xticks(range(1, 11))\n",
    "ax.get_xaxis().set_major_formatter(ticker.ScalarFormatter())\n",
    "\n",
    "ax.set_ylabel(\"Request Count\")\n",
    "ax.set_xlabel(\"Latency in ms\")\n",
    "\n",
    "ax.xaxis.set_major_locator(ticker.AutoLocator())\n",
    "ax.xaxis.set_major_formatter(ticker.FormatStrFormatter('%.0f'))"
   ]
  },
  {
   "cell_type": "code",
   "execution_count": 17,
   "metadata": {},
   "outputs": [
    {
     "data": {
      "image/png": "[encoded data removed]",
      "text/plain": [
       "<Figure size 432x288 with 1 Axes>"
      ]
     },
     "metadata": {},
     "output_type": "display_data"
    }
   ],
   "source": [
    "\n",
    "import matplotlib.pyplot as plt\n",
    "import matplotlib.ticker as ticker\n",
    "import seaborn as sns\n",
    "sns.set_theme(style=\"darkgrid\")\n",
    "\n",
    "fig, ax = plt.subplots()\n",
    "sns.barplot(data=s, x=\"categories\", y=\"counts\")\n",
    "\n",
    "\n",
    "# ax.set_xticks(range(1, 11))\n",
    "\n",
    "ax.set_ylabel(\"Request Count\")\n",
    "ax.set_xlabel(\"Latency in ms\")\n",
    "ax.xaxis.set_major_locator(ticker.MultipleLocator(10))\n",
    "ax.xaxis.set_major_formatter(ticker.FormatStrFormatter('%.0f'))\n",
    "\n"
   ]
  },
  {
   "cell_type": "code",
   "execution_count": 15,
   "metadata": {},
   "outputs": [
    {
     "data": {
      "image/png": "[encoded data removed]",
      "text/plain": [
       "<Figure size 432x288 with 1 Axes>"
      ]
     },
     "metadata": {},
     "output_type": "display_data"
    }
   ],
   "source": [
    "import matplotlib.pyplot as plt\n",
    "import matplotlib.ticker as ticker\n",
    "import seaborn as sns\n",
    "sns.set_theme(style=\"darkgrid\")\n",
    "\n",
    "fig, ax = plt.subplots()\n",
    "sns.barplot(x=s[\"bins\"][1:], y=s[\"counts\"])\n",
    "\n",
    "\n",
    "\n",
    "# ax.set_xticks(range(1, 11))\n",
    "\n",
    "ax.set_ylabel(\"Request Count\")\n",
    "ax.set_xlabel(\"Latency in ms\")\n",
    "ax.xaxis.set_major_locator(ticker.MultipleLocator(10))\n",
    "ax.xaxis.set_major_formatter(ticker.FormatStrFormatter('%.0f'))\n",
    "\n"
   ]
  },
  {
   "cell_type": "code",
   "execution_count": 49,
   "metadata": {},
   "outputs": [
    {
     "name": "stderr",
     "output_type": "stream",
     "text": [
      "/home/richard/.local/lib/python3.8/site-packages/seaborn/distributions.py:376: FutureWarning: elementwise comparison failed; returning scalar instead, but in the future will perform elementwise comparison\n",
      "  and estimate_kws[\"bins\"] == \"auto\"\n"
     ]
    },
    {
     "ename": "AttributeError",
     "evalue": "'AxesSubplot' object has no attribute 'set_xlddim'",
     "output_type": "error",
     "traceback": [
      "\u001b[0;31m---------------------------------------------------------------------------\u001b[0m",
      "\u001b[0;31mAttributeError\u001b[0m                            Traceback (most recent call last)",
      "\u001b[1;32m/home/richard/projects/mesh-bench/viz/exploration.ipynb Cell 8'\u001b[0m in \u001b[0;36m<cell line: 11>\u001b[0;34m()\u001b[0m\n\u001b[1;32m      <a href='vscode-notebook-cell://wsl%2Bubuntu-20.04/home/richard/projects/mesh-bench/viz/exploration.ipynb#ch0000012vscode-remote?line=6'>7</a>\u001b[0m \u001b[39m# ax.hist(x, bins=binedges, weights=weights)\u001b[39;00m\n\u001b[1;32m      <a href='vscode-notebook-cell://wsl%2Bubuntu-20.04/home/richard/projects/mesh-bench/viz/exploration.ipynb#ch0000012vscode-remote?line=8'>9</a>\u001b[0m sns\u001b[39m.\u001b[39mhistplot(data\u001b[39m=\u001b[39ms, x\u001b[39m=\u001b[39mx, weights\u001b[39m=\u001b[39mweights, bins\u001b[39m=\u001b[39mbinedges)\n\u001b[0;32m---> <a href='vscode-notebook-cell://wsl%2Bubuntu-20.04/home/richard/projects/mesh-bench/viz/exploration.ipynb#ch0000012vscode-remote?line=10'>11</a>\u001b[0m ax\u001b[39m.\u001b[39;49mset_xlddim(left\u001b[39m=\u001b[39m\u001b[39m0\u001b[39m)\n",
      "\u001b[0;31mAttributeError\u001b[0m: 'AxesSubplot' object has no attribute 'set_xlddim'"
     ]
    },
    {
     "data": {
      "image/png": "[encoded data removed]",
      "text/plain": [
       "<Figure size 432x288 with 1 Axes>"
      ]
     },
     "metadata": {},
     "output_type": "display_data"
    }
   ],
   "source": [
    "\n",
    "s\n",
    "fig, ax = plt.subplots()\n",
    "\n",
    "binedges = np.array(s[\"bins\"])\n",
    "weights = np.array(s[\"counts\"])\n",
    "x = (binedges[1:] + binedges[:-1]) / 2.0\n",
    "# ax.hist(x, bins=binedges, weights=weights)\n",
    "\n",
    "sns.histplot(data=s, x=x, weights=weights, bins=binedges)\n",
    "\n",
    "ax.set_xlim(left=0)\n",
    "\n"
   ]
  },
  {
   "cell_type": "code",
   "execution_count": 23,
   "metadata": {},
   "outputs": [
    {
     "data": {
      "image/png": "[encoded data removed]",
      "text/plain": [
       "<Figure size 432x288 with 1 Axes>"
      ]
     },
     "metadata": {},
     "output_type": "display_data"
    }
   ],
   "source": [
    "import random\n",
    "import matplotlib.pyplot as plt\n",
    "x=[x/1000 for x in random.sample(range(100000),100)]\n",
    "xbins=range(0,len(x))\n",
    "plt.hist(x, bins=xbins, color='blue')\n",
    "plt.show()"
   ]
  },
  {
   "cell_type": "code",
   "execution_count": 26,
   "metadata": {},
   "outputs": [
    {
     "data": {
      "image/png": "[encoded data removed]",
      "text/plain": [
       "<Figure size 432x288 with 1 Axes>"
      ]
     },
     "metadata": {},
     "output_type": "display_data"
    }
   ],
   "source": [
    "import numpy\n",
    "import matplotlib.pyplot as plt\n",
    "\n",
    "def plot_binned_data(axes, binedges, data,\n",
    "               *args, **kwargs):\n",
    "    #The dataset values are the bin centres\n",
    "    x = (binedges[1:] + binedges[:-1]) / 2.0\n",
    "    #The weights are the y-values of the input binned data\n",
    "    weights = data\n",
    "    return axes.hist(x, bins=binedges, weights=weights,\n",
    "               *args, **kwargs)\n",
    "\n",
    "#Create a dataset\n",
    "dataset = numpy.random.normal(size=100)\n",
    "#Bin the dataset\n",
    "binedges = numpy.linspace(-5.0, 5.0, num=10)\n",
    "y, binedges = numpy.histogram(dataset, binedges)\n",
    "\n",
    "#Plot the dataset\n",
    "fig = plt.figure()\n",
    "ax = fig.add_subplot(1, 1, 1)\n",
    "plot_binned_data(ax, binedges, y)\n",
    "plt.show()"
   ]
  },
  {
   "cell_type": "code",
   "execution_count": 35,
   "metadata": {},
   "outputs": [
    {
     "name": "stdout",
     "output_type": "stream",
     "text": [
      "9\n",
      "10\n"
     ]
    }
   ],
   "source": [
    "\n",
    "#Create a dataset\n",
    "dataset = numpy.random.normal(size=100)\n",
    "#Bin the dataset\n",
    "binedges = numpy.linspace(-5.0, 5.0, num=10)\n",
    "y, binedges = numpy.histogram(dataset, binedges)\n",
    "print(len(y))\n",
    "print(len(binedges))"
   ]
  }
 ],
 "metadata": {
  "kernelspec": {
   "display_name": "Python 3.8.10 64-bit",
   "language": "python",
   "name": "python3"
  },
  "language_info": {
   "codemirror_mode": {
    "name": "ipython",
    "version": 3
   },
   "file_extension": ".py",
   "mimetype": "text/x-python",
   "name": "python",
   "nbconvert_exporter": "python",
   "pygments_lexer": "ipython3",
   "version": "3.8.10"
  },
  "orig_nbformat": 4,
  "vscode": {
   "interpreter": {
    "hash": "31f2aee4e71d21fbe5cf8b01ff0e069b9275f58929596ceb00d14d90e3e16cd6"
   }
  }
 },
 "nbformat": 4,
 "nbformat_minor": 2
}
