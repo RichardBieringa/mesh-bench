{
 "cells": [
  {
   "cell_type": "code",
   "execution_count": 1,
   "metadata": {},
   "outputs": [],
   "source": [
    "import numpy as np\n",
    "import pandas as pd\n",
    "\n",
    "test_file = \"/Users/richardbieringa/Projects/mesh-bench/results/01_http_max_throughput/http_baseline_MAX_0_1_2022-06-20T08:32:57Z.json\""
   ]
  },
  {
   "cell_type": "code",
   "execution_count": 2,
   "metadata": {},
   "outputs": [
    {
     "data": {
      "text/plain": [
       "StartTime                               2022-06-20T08:32:59.487539804Z\n",
       "RequestedQPS                                                       max\n",
       "RequestedDuration                                                15m0s\n",
       "ActualQPS                                                    8746.6817\n",
       "ActualDuration                                            900002111624\n",
       "Count                                                          7872032\n",
       "Min                                                           0.000047\n",
       "Max                                                            0.16879\n",
       "Sum                                                       28795.839311\n",
       "Avg                                                           0.003658\n",
       "StdDev                                                        0.003416\n",
       "Data                 [{'Start': 4.7225e-05, 'End': 0.0001, 'Percent...\n",
       "dtype: object"
      ]
     },
     "execution_count": 2,
     "metadata": {},
     "output_type": "execute_result"
    }
   ],
   "source": [
    "s = pd.read_json(test_file, typ=\"series\")\n",
    "\n",
    "# Filter columns\n",
    "required_cols = [\n",
    "    \"StartTime\",\n",
    "    \"RequestedQPS\",\n",
    "    \"RequestedDuration\",\n",
    "    \"ActualQPS\",\n",
    "    \"ActualDuration\",\n",
    "    \"DurationHistogram\",\n",
    "]\n",
    "\n",
    "s = s[required_cols]\n",
    "\n",
    "# Extract nested columns in 'DurationHistogram'\n",
    "for key, val in s[\"DurationHistogram\"].items():\n",
    "    s[key] = val\n",
    "s = s.drop([\"DurationHistogram\", \"Percentiles\"])\n",
    "\n",
    "\n",
    "s\n"
   ]
  },
  {
   "cell_type": "code",
   "execution_count": 3,
   "metadata": {},
   "outputs": [
    {
     "data": {
      "text/plain": [
       "StartTime                               2022-06-20T08:32:59.487539804Z\n",
       "RequestedQPS                                                       max\n",
       "RequestedDuration                                                15m0s\n",
       "ActualQPS                                                    8746.6817\n",
       "ActualDuration                                            900002111624\n",
       "Count                                                          7872032\n",
       "Min                                                           0.047225\n",
       "Max                                                          168.79017\n",
       "Sum                                                    28795839.311071\n",
       "Avg                                                           3.657993\n",
       "StdDev                                                        0.003416\n",
       "counts               [25198, 92183, 97250, 100720, 104478, 110855, ...\n",
       "percentages          [0.32009524351527, 1.491114365388758, 2.726500...\n",
       "categories           [(0.047225, 0.1], (0.1, 0.2], (0.2, 0.30000000...\n",
       "bins                 [0.047225, 0.1, 0.2, 0.30000000000000004, 0.4,...\n",
       "dtype: object"
      ]
     },
     "execution_count": 3,
     "metadata": {},
     "output_type": "execute_result"
    }
   ],
   "source": [
    "# fortio reports in seconds, convert to miliseconds\n",
    "multiplier = 1000\n",
    "\n",
    "s.loc[[\"Min\", \"Max\", \"Sum\", \"Avg\"]] *= multiplier\n",
    "\n",
    "# Construct Histogram Bins, Counts and Percentiles\n",
    "\n",
    "data = s[\"Data\"]\n",
    "\n",
    "\n",
    "s[\"counts\"] = [x[\"Count\"] for x in data]\n",
    "s[\"percentages\"] = [x[\"Percent\"] for x in data]\n",
    "\n",
    "# Bins (default pd.cut function makes them as categoricals of intervals)\n",
    "# https://pandas.pydata.org/docs/reference/api/pandas.Categorical.html\n",
    "# https://pandas.pydata.org/docs/reference/api/pandas.Interval.html\n",
    "s[\"categories\"]= pd.Categorical([pd.Interval(x[\"Start\"] * multiplier , x[\"End\"] * multiplier) for x in data])\n",
    "s[\"bins\"] = [x.left for x in s[\"categories\"]]\n",
    "s[\"bins\"].append(s[\"categories\"][-1].right)\n",
    "\n",
    "s = s.drop(\"Data\")\n",
    "s"
   ]
  },
  {
   "cell_type": "code",
   "execution_count": 4,
   "metadata": {},
   "outputs": [],
   "source": [
    "# bins = s[\"bins\"]\n",
    "\n",
    "# dir(bins[0])\n",
    "# bins[0].left\n",
    "# # bins[0].right\n",
    "\n",
    "# b = [x.left for x in bins]\n",
    "# b.append(bins[-1].right)\n",
    "# b\n"
   ]
  },
  {
   "cell_type": "code",
   "execution_count": 5,
   "metadata": {},
   "outputs": [
    {
     "data": {
      "text/plain": [
       "[<matplotlib.axis.XTick at 0x1346a71c0>,\n",
       " <matplotlib.axis.XTick at 0x1346a7190>,\n",
       " <matplotlib.axis.XTick at 0x1346a7070>,\n",
       " <matplotlib.axis.XTick at 0x1349fd210>]"
      ]
     },
     "execution_count": 5,
     "metadata": {},
     "output_type": "execute_result"
    },
    {
     "data": {
      "image/png": "[encoded data removed]",
      "text/plain": [
       "<Figure size 432x288 with 1 Axes>"
      ]
     },
     "metadata": {
      "needs_background": "light"
     },
     "output_type": "display_data"
    }
   ],
   "source": [
    "import matplotlib.pyplot as plt\n",
    "import matplotlib.ticker as ticker\n",
    "import seaborn as sns\n",
    "sns.set_theme(style=\"darkgrid\")\n",
    "\n",
    "\n",
    "fig, ax = plt.subplots()\n",
    "sns.barplot(data=s, x=s[\"bins\"][:-1], y=\"counts\")\n",
    "\n",
    "\n",
    "# ax.set_xticks(range(1, 11))\n",
    "ax.get_xaxis().set_major_formatter(ticker.ScalarFormatter())\n",
    "\n",
    "ax.set_ylabel(\"Request Count\")\n",
    "ax.set_xlabel(\"Latency in ms\")\n",
    "\n",
    "ax.set_xticks([0, 5, 10, 20])\n"
   ]
  },
  {
   "cell_type": "code",
   "execution_count": 6,
   "metadata": {},
   "outputs": [
    {
     "data": {
      "text/plain": [
       "[<matplotlib.axis.XTick at 0x134afd450>,\n",
       " <matplotlib.axis.XTick at 0x134afce20>,\n",
       " <matplotlib.axis.XTick at 0x134afd750>,\n",
       " <matplotlib.axis.XTick at 0x134beb310>]"
      ]
     },
     "execution_count": 6,
     "metadata": {},
     "output_type": "execute_result"
    },
    {
     "data": {
      "image/png": "[encoded data removed]",
      "text/plain": [
       "<Figure size 432x288 with 1 Axes>"
      ]
     },
     "metadata": {},
     "output_type": "display_data"
    }
   ],
   "source": [
    "\n",
    "import matplotlib.pyplot as plt\n",
    "import matplotlib.ticker as ticker\n",
    "import seaborn as sns\n",
    "sns.set_theme(style=\"darkgrid\")\n",
    "\n",
    "fig, ax = plt.subplots()\n",
    "sns.barplot(data=s, x=\"categories\", y=\"counts\")\n",
    "\n",
    "\n",
    "# ax.set_xticks(range(1, 11))\n",
    "\n",
    "ax.set_ylabel(\"Request Count\")\n",
    "ax.set_xlabel(\"Latency in ms\")\n",
    "ax.set_xticks([0, 5, 10, 20])\n",
    "\n"
   ]
  },
  {
   "cell_type": "code",
   "execution_count": 8,
   "metadata": {},
   "outputs": [
    {
     "data": {
      "text/plain": [
       "[<matplotlib.axis.XTick at 0x134df79d0>,\n",
       " <matplotlib.axis.XTick at 0x134df79a0>,\n",
       " <matplotlib.axis.XTick at 0x134df68c0>,\n",
       " <matplotlib.axis.XTick at 0x134f1d4e0>]"
      ]
     },
     "execution_count": 8,
     "metadata": {},
     "output_type": "execute_result"
    },
    {
     "data": {
      "image/png": "[encoded data removed]",
      "text/plain": [
       "<Figure size 432x288 with 1 Axes>"
      ]
     },
     "metadata": {},
     "output_type": "display_data"
    }
   ],
   "source": [
    "import matplotlib.pyplot as plt\n",
    "import matplotlib.ticker as ticker\n",
    "import seaborn as sns\n",
    "sns.set_theme(style=\"darkgrid\")\n",
    "\n",
    "fig, ax = plt.subplots()\n",
    "sns.barplot(x=s[\"bins\"][1:], y=s[\"counts\"])\n",
    "\n",
    "\n",
    "\n",
    "# ax.set_xticks(range(1, 11))\n",
    "\n",
    "ax.set_ylabel(\"Request Count\")\n",
    "ax.set_xlabel(\"Latency in ms\")\n",
    "ax.set_xticks([0, 5, 10, 20])\n",
    "\n"
   ]
  },
  {
   "cell_type": "code",
   "execution_count": 21,
   "metadata": {},
   "outputs": [
    {
     "data": {
      "text/plain": [
       "[25198,\n",
       " 92183,\n",
       " 97250,\n",
       " 100720,\n",
       " 104478,\n",
       " 110855,\n",
       " 118684,\n",
       " 115629,\n",
       " 114544,\n",
       " 126845,\n",
       " 167858,\n",
       " 207794,\n",
       " 435489,\n",
       " 346508,\n",
       " 263419,\n",
       " 251682,\n",
       " 657889,\n",
       " 676682,\n",
       " 688165,\n",
       " 635349,\n",
       " 480361,\n",
       " 336816,\n",
       " 478451,\n",
       " 341354,\n",
       " 246735,\n",
       " 177411,\n",
       " 128179,\n",
       " 155701,\n",
       " 84428,\n",
       " 44848,\n",
       " 24082,\n",
       " 12787,\n",
       " 13108,\n",
       " 4489,\n",
       " 1905,\n",
       " 984,\n",
       " 518,\n",
       " 458,\n",
       " 484,\n",
       " 389,\n",
       " 298,\n",
       " 213,\n",
       " 172,\n",
       " 640]"
      ]
     },
     "execution_count": 21,
     "metadata": {},
     "output_type": "execute_result"
    }
   ],
   "source": [
    "from plotnine import *\n",
    "from plotnine.data import *\n",
    "\n",
    "%matplotlib inline\n",
    "\n",
    "s\n",
    "s['counts']\n"
   ]
  },
  {
   "cell_type": "code",
   "execution_count": 22,
   "metadata": {},
   "outputs": [
    {
     "ename": "ValueError",
     "evalue": "The truth value of a Series is ambiguous. Use a.empty, a.bool(), a.item(), a.any() or a.all().",
     "output_type": "error",
     "traceback": [
      "\u001b[0;31m---------------------------------------------------------------------------\u001b[0m",
      "\u001b[0;31mValueError\u001b[0m                                Traceback (most recent call last)",
      "\u001b[1;32m/Users/richardbieringa/Projects/mesh-bench/viz/exploration.ipynb Cell 9'\u001b[0m in \u001b[0;36m<cell line: 2>\u001b[0;34m()\u001b[0m\n\u001b[1;32m      <a href='vscode-notebook-cell:/Users/richardbieringa/Projects/mesh-bench/viz/exploration.ipynb#ch0000023?line=0'>1</a>\u001b[0m (\n\u001b[0;32m----> <a href='vscode-notebook-cell:/Users/richardbieringa/Projects/mesh-bench/viz/exploration.ipynb#ch0000023?line=1'>2</a>\u001b[0m     ggplot(s, aes(x\u001b[39m=\u001b[39;49ms[\u001b[39m\"\u001b[39;49m\u001b[39mbins\u001b[39;49m\u001b[39m\"\u001b[39;49m][\u001b[39m1\u001b[39;49m:], y\u001b[39m=\u001b[39;49m\u001b[39m'\u001b[39;49m\u001b[39mcounts\u001b[39;49m\u001b[39m'\u001b[39;49m))\n\u001b[1;32m      <a href='vscode-notebook-cell:/Users/richardbieringa/Projects/mesh-bench/viz/exploration.ipynb#ch0000023?line=2'>3</a>\u001b[0m         \u001b[39m+\u001b[39m geom_col(stat\u001b[39m=\u001b[39m\u001b[39m'\u001b[39m\u001b[39midentity\u001b[39m\u001b[39m'\u001b[39m, position\u001b[39m=\u001b[39m\u001b[39m'\u001b[39m\u001b[39mdodge\u001b[39m\u001b[39m'\u001b[39m)\n\u001b[1;32m      <a href='vscode-notebook-cell:/Users/richardbieringa/Projects/mesh-bench/viz/exploration.ipynb#ch0000023?line=3'>4</a>\u001b[0m )\n",
      "File \u001b[0;32m~/.pyenv/versions/3.10.0/lib/python3.10/site-packages/plotnine/ggplot.py:60\u001b[0m, in \u001b[0;36mggplot.__init__\u001b[0;34m(self, mapping, data, environment)\u001b[0m\n\u001b[1;32m     58\u001b[0m \u001b[39mdef\u001b[39;00m \u001b[39m__init__\u001b[39m(\u001b[39mself\u001b[39m, mapping\u001b[39m=\u001b[39m\u001b[39mNone\u001b[39;00m, data\u001b[39m=\u001b[39m\u001b[39mNone\u001b[39;00m, environment\u001b[39m=\u001b[39m\u001b[39mNone\u001b[39;00m):\n\u001b[1;32m     59\u001b[0m     \u001b[39m# Allow some sloppiness\u001b[39;00m\n\u001b[0;32m---> 60\u001b[0m     mapping, data \u001b[39m=\u001b[39m order_as_mapping_data(mapping, data)\n\u001b[1;32m     61\u001b[0m     \u001b[39mif\u001b[39;00m mapping \u001b[39mis\u001b[39;00m \u001b[39mNone\u001b[39;00m:\n\u001b[1;32m     62\u001b[0m         mapping \u001b[39m=\u001b[39m aes()\n",
      "File \u001b[0;32m~/.pyenv/versions/3.10.0/lib/python3.10/site-packages/plotnine/utils.py:1019\u001b[0m, in \u001b[0;36morder_as_mapping_data\u001b[0;34m(*args)\u001b[0m\n\u001b[1;32m   1016\u001b[0m     \u001b[39mif\u001b[39;00m data \u001b[39mis\u001b[39;00m \u001b[39mNone\u001b[39;00m \u001b[39mor\u001b[39;00m \u001b[39misinstance\u001b[39m(data, aes):\n\u001b[1;32m   1017\u001b[0m         mapping, data \u001b[39m=\u001b[39m data, mapping\n\u001b[0;32m-> 1019\u001b[0m \u001b[39mif\u001b[39;00m mapping \u001b[39mand\u001b[39;00m \u001b[39mnot\u001b[39;00m \u001b[39misinstance\u001b[39m(mapping, aes):\n\u001b[1;32m   1020\u001b[0m     \u001b[39mraise\u001b[39;00m \u001b[39mTypeError\u001b[39;00m(\n\u001b[1;32m   1021\u001b[0m         \u001b[39m\"\u001b[39m\u001b[39mUnknown argument type \u001b[39m\u001b[39m{!r}\u001b[39;00m\u001b[39m, expected mapping/aes.\u001b[39m\u001b[39m\"\u001b[39m\n\u001b[1;32m   1022\u001b[0m         \u001b[39m.\u001b[39mformat(\u001b[39mtype\u001b[39m(mapping))\n\u001b[1;32m   1023\u001b[0m     )\n\u001b[1;32m   1025\u001b[0m \u001b[39mif\u001b[39;00m \u001b[39mnot\u001b[39;00m \u001b[39misinstance\u001b[39m(data, pd\u001b[39m.\u001b[39mDataFrame) \u001b[39mand\u001b[39;00m data \u001b[39mis\u001b[39;00m \u001b[39mnot\u001b[39;00m \u001b[39mNone\u001b[39;00m:\n",
      "File \u001b[0;32m~/.pyenv/versions/3.10.0/lib/python3.10/site-packages/pandas/core/generic.py:1527\u001b[0m, in \u001b[0;36mNDFrame.__nonzero__\u001b[0;34m(self)\u001b[0m\n\u001b[1;32m   1525\u001b[0m \u001b[39m@final\u001b[39m\n\u001b[1;32m   1526\u001b[0m \u001b[39mdef\u001b[39;00m \u001b[39m__nonzero__\u001b[39m(\u001b[39mself\u001b[39m):\n\u001b[0;32m-> 1527\u001b[0m     \u001b[39mraise\u001b[39;00m \u001b[39mValueError\u001b[39;00m(\n\u001b[1;32m   1528\u001b[0m         \u001b[39mf\u001b[39m\u001b[39m\"\u001b[39m\u001b[39mThe truth value of a \u001b[39m\u001b[39m{\u001b[39;00m\u001b[39mtype\u001b[39m(\u001b[39mself\u001b[39m)\u001b[39m.\u001b[39m\u001b[39m__name__\u001b[39m\u001b[39m}\u001b[39;00m\u001b[39m is ambiguous. \u001b[39m\u001b[39m\"\u001b[39m\n\u001b[1;32m   1529\u001b[0m         \u001b[39m\"\u001b[39m\u001b[39mUse a.empty, a.bool(), a.item(), a.any() or a.all().\u001b[39m\u001b[39m\"\u001b[39m\n\u001b[1;32m   1530\u001b[0m     )\n",
      "\u001b[0;31mValueError\u001b[0m: The truth value of a Series is ambiguous. Use a.empty, a.bool(), a.item(), a.any() or a.all()."
     ]
    }
   ],
   "source": [
    "(\n",
    "    ggplot(s, aes(x=s[\"bins\"][1:], y='counts'))\n",
    "        + geom_col(stat='identity', position='dodge')\n",
    ") "
   ]
  },
  {
   "cell_type": "code",
   "execution_count": null,
   "metadata": {},
   "outputs": [],
   "source": [
    "import altair as alt\n",
    "\n",
    "alt.Chart(s).mark_bar().encode(\n",
    "    x=\"bins\",\n",
    "    y=\"counts\"\n",
    ")"
   ]
  },
  {
   "cell_type": "code",
   "execution_count": null,
   "metadata": {},
   "outputs": [],
   "source": []
  },
  {
   "cell_type": "code",
   "execution_count": null,
   "metadata": {},
   "outputs": [],
   "source": []
  }
 ],
 "metadata": {
  "kernelspec": {
   "display_name": "Python 3.10.0 64-bit ('3.10.0')",
   "language": "python",
   "name": "python3"
  },
  "language_info": {
   "codemirror_mode": {
    "name": "ipython",
    "version": 3
   },
   "file_extension": ".py",
   "mimetype": "text/x-python",
   "name": "python",
   "nbconvert_exporter": "python",
   "pygments_lexer": "ipython3",
   "version": "3.10.0"
  },
  "orig_nbformat": 4,
  "vscode": {
   "interpreter": {
    "hash": "59a8f6343108273ca69e92a22b71526a2db6910e600833884571441fcec4c848"
   }
  }
 },
 "nbformat": 4,
 "nbformat_minor": 2
}
