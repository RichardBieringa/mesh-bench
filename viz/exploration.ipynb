{
 "cells": [
  {
   "cell_type": "code",
   "execution_count": 24,
   "metadata": {},
   "outputs": [],
   "source": [
    "import numpy as np\n",
    "import pandas as pd\n",
    "\n",
    "test_file = \"/Users/richardbieringa/Projects/mesh-bench/results/01_http_max_throughput/http_baseline_MAX_0_1_2022-06-20T08:32:57Z.json\""
   ]
  },
  {
   "cell_type": "code",
   "execution_count": 25,
   "metadata": {},
   "outputs": [
    {
     "data": {
      "text/plain": [
       "StartTime                               2022-06-20T08:32:59.487539804Z\n",
       "RequestedQPS                                                       max\n",
       "RequestedDuration                                                15m0s\n",
       "ActualQPS                                                    8746.6817\n",
       "ActualDuration                                            900002111624\n",
       "Count                                                          7872032\n",
       "Min                                                           0.000047\n",
       "Max                                                            0.16879\n",
       "Sum                                                       28795.839311\n",
       "Avg                                                           0.003658\n",
       "StdDev                                                        0.003416\n",
       "Data                 [{'Start': 4.7225e-05, 'End': 0.0001, 'Percent...\n",
       "dtype: object"
      ]
     },
     "execution_count": 25,
     "metadata": {},
     "output_type": "execute_result"
    }
   ],
   "source": [
    "s = pd.read_json(test_file, typ=\"series\")\n",
    "\n",
    "# Filter columns\n",
    "required_cols = [\n",
    "    \"StartTime\",\n",
    "    \"RequestedQPS\",\n",
    "    \"RequestedDuration\",\n",
    "    \"ActualQPS\",\n",
    "    \"ActualDuration\",\n",
    "    \"DurationHistogram\",\n",
    "]\n",
    "\n",
    "s = s[required_cols]\n",
    "\n",
    "# Extract nested columns in 'DurationHistogram'\n",
    "for key, val in s[\"DurationHistogram\"].items():\n",
    "    s[key] = val\n",
    "s = s.drop([\"DurationHistogram\", \"Percentiles\"])\n",
    "\n",
    "\n",
    "s\n"
   ]
  },
  {
   "cell_type": "code",
   "execution_count": 26,
   "metadata": {},
   "outputs": [
    {
     "data": {
      "text/plain": [
       "StartTime                               2022-06-20T08:32:59.487539804Z\n",
       "RequestedQPS                                                       max\n",
       "RequestedDuration                                                15m0s\n",
       "ActualQPS                                                    8746.6817\n",
       "ActualDuration                                            900002111624\n",
       "Count                                                          7872032\n",
       "Min                                                           0.047225\n",
       "Max                                                          168.79017\n",
       "Sum                                                    28795839.311071\n",
       "Avg                                                           3.657993\n",
       "StdDev                                                        0.003416\n",
       "bins                 [(0.047225, 0.1], (0.1, 0.2], (0.2, 0.30000000...\n",
       "counts               [25198, 92183, 97250, 100720, 104478, 110855, ...\n",
       "percentages          [0.32009524351527, 1.491114365388758, 2.726500...\n",
       "dtype: object"
      ]
     },
     "execution_count": 26,
     "metadata": {},
     "output_type": "execute_result"
    }
   ],
   "source": [
    "# fortio reports in seconds, convert to miliseconds\n",
    "multiplier = 1000\n",
    "\n",
    "s.loc[[\"Min\", \"Max\", \"Sum\", \"Avg\"]] *= multiplier\n",
    "\n",
    "# Construct Histogram Bins, Counts and Percentiles\n",
    "\n",
    "data = s[\"Data\"]\n",
    "\n",
    "# Bins (default pd.cut function makes them as categoricals of intervals)\n",
    "# https://pandas.pydata.org/docs/reference/api/pandas.Categorical.html\n",
    "# https://pandas.pydata.org/docs/reference/api/pandas.Interval.html\n",
    "\n",
    "s[\"bins\"]= pd.Categorical([pd.Interval(x[\"Start\"] * multiplier , x[\"End\"] * multiplier) for x in data])\n",
    "s[\"counts\"] = [x[\"Count\"] for x in data]\n",
    "s[\"percentages\"] = [x[\"Percent\"] for x in data]\n",
    "\n",
    "s = s.drop(\"Data\")\n",
    "s"
   ]
  },
  {
   "cell_type": "code",
   "execution_count": 29,
   "metadata": {},
   "outputs": [
    {
     "data": {
      "text/plain": [
       "Text(0.5, 0, 'Latency in ms')"
      ]
     },
     "execution_count": 29,
     "metadata": {},
     "output_type": "execute_result"
    },
    {
     "data": {
      "image/png": "[encoded data removed]",
      "text/plain": [
       "<Figure size 432x288 with 1 Axes>"
      ]
     },
     "metadata": {},
     "output_type": "display_data"
    }
   ],
   "source": [
    "import matplotlib.pyplot as plt\n",
    "import matplotlib.ticker as ticker\n",
    "import seaborn as sns\n",
    "sns.set_theme(style=\"darkgrid\")\n",
    "\n",
    "\n",
    "fig, ax = plt.subplots()\n",
    "sns.barplot(data=s, x=\"bins\", y=\"counts\")\n",
    "\n",
    "\n",
    "# ax.set_xticks(range(1, 11))\n",
    "ax.get_xaxis().set_major_formatter(ticker.ScalarFormatter())\n",
    "\n",
    "ax.set_ylabel(\"Request Count\")\n",
    "ax.set_xlabel(\"Latency in ms\")\n",
    "\n"
   ]
  }
 ],
 "metadata": {
  "kernelspec": {
   "display_name": "Python 3.10.0 64-bit ('3.10.0')",
   "language": "python",
   "name": "python3"
  },
  "language_info": {
   "codemirror_mode": {
    "name": "ipython",
    "version": 3
   },
   "file_extension": ".py",
   "mimetype": "text/x-python",
   "name": "python",
   "nbconvert_exporter": "python",
   "pygments_lexer": "ipython3",
   "version": "3.10.0"
  },
  "orig_nbformat": 4,
  "vscode": {
   "interpreter": {
    "hash": "59a8f6343108273ca69e92a22b71526a2db6910e600833884571441fcec4c848"
   }
  }
 },
 "nbformat": 4,
 "nbformat_minor": 2
}
