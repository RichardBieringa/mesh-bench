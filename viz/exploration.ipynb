{
 "cells": [
  {
   "cell_type": "code",
   "execution_count": 1,
   "metadata": {},
   "outputs": [],
   "source": [
    "import re\n",
    "import os\n",
    "import pathlib\n",
    "import json\n",
    "\n",
    "import numpy as np\n",
    "import pandas as pd\n",
    "import matplotlib.pyplot as plt\n",
    "import matplotlib.ticker as ticker\n",
    "from matplotlib import gridspec\n",
    "import seaborn as sns\n",
    "import warnings\n",
    "warnings.simplefilter(action='ignore', category=FutureWarning)\n",
    "sns.set_theme(style=\"darkgrid\")"
   ]
  },
  {
   "cell_type": "code",
   "execution_count": 6,
   "metadata": {},
   "outputs": [
    {
     "data": {
      "text/plain": [
       "{'RunType': 'HTTP',\n",
       " 'Labels': '',\n",
       " 'StartTime': '2022-07-01T13:25:57.49826142Z',\n",
       " 'RequestedQPS': 'max',\n",
       " 'RequestedDuration': '15m0s',\n",
       " 'ActualQPS': 25169.62259517342,\n",
       " 'ActualDuration': 900000423699,\n",
       " 'NumThreads': 4,\n",
       " 'Version': '1.28.0',\n",
       " 'DurationHistogram': {'Count': 22652671,\n",
       "  'Min': 5.9961e-05,\n",
       "  'Max': 0.140659423,\n",
       "  'Sum': 3594.730939191965,\n",
       "  'Avg': 0.0001586890543367696,\n",
       "  'StdDev': 0.0002302022212411988,\n",
       "  'Data': [{'Start': 5.9961e-05,\n",
       "    'End': 0.001,\n",
       "    'Percent': 99.74081643617214,\n",
       "    'Count': 22593959},\n",
       "   {'Start': 0.001,\n",
       "    'End': 0.002,\n",
       "    'Percent': 99.89589307150578,\n",
       "    'Count': 35129},\n",
       "   {'Start': 0.002, 'End': 0.003, 'Percent': 99.93818830459331, 'Count': 9581},\n",
       "   {'Start': 0.003, 'End': 0.004, 'Percent': 99.95708673824822, 'Count': 4281},\n",
       "   {'Start': 0.004, 'End': 0.005, 'Percent': 99.96927956089593, 'Count': 2762},\n",
       "   {'Start': 0.005, 'End': 0.006, 'Percent': 99.97900909786753, 'Count': 2204},\n",
       "   {'Start': 0.006, 'End': 0.007, 'Percent': 99.98675211413259, 'Count': 1754},\n",
       "   {'Start': 0.007, 'End': 0.008, 'Percent': 99.99078254392164, 'Count': 913},\n",
       "   {'Start': 0.008,\n",
       "    'End': 0.009000000000000001,\n",
       "    'Percent': 99.99274257768543,\n",
       "    'Count': 444},\n",
       "   {'Start': 0.009000000000000001,\n",
       "    'End': 0.01,\n",
       "    'Percent': 99.99453927530223,\n",
       "    'Count': 407},\n",
       "   {'Start': 0.01, 'End': 0.011, 'Percent': 99.99659642785612, 'Count': 466},\n",
       "   {'Start': 0.011, 'End': 0.012, 'Percent': 99.9973204042914, 'Count': 164},\n",
       "   {'Start': 0.012, 'End': 0.014, 'Percent': 99.99800023582208, 'Count': 154},\n",
       "   {'Start': 0.014, 'End': 0.016, 'Percent': 99.9983313226065, 'Count': 75},\n",
       "   {'Start': 0.016,\n",
       "    'End': 0.018000000000000002,\n",
       "    'Percent': 99.99848141528211,\n",
       "    'Count': 34},\n",
       "   {'Start': 0.018000000000000002,\n",
       "    'End': 0.02,\n",
       "    'Percent': 99.99865799490047,\n",
       "    'Count': 40},\n",
       "   {'Start': 0.02, 'End': 0.025, 'Percent': 99.99890079187571, 'Count': 55},\n",
       "   {'Start': 0.025, 'End': 0.03, 'Percent': 99.99917007579371, 'Count': 61},\n",
       "   {'Start': 0.03, 'End': 0.035, 'Percent': 99.99935989888344, 'Count': 43},\n",
       "   {'Start': 0.035, 'End': 0.04, 'Percent': 99.99952764952089, 'Count': 38},\n",
       "   {'Start': 0.04, 'End': 0.045, 'Percent': 99.99962035382053, 'Count': 21},\n",
       "   {'Start': 0.045, 'End': 0.05, 'Percent': 99.9996777421965, 'Count': 13},\n",
       "   {'Start': 0.05, 'End': 0.06, 'Percent': 99.99987197977669, 'Count': 44},\n",
       "   {'Start': 0.06, 'End': 0.07, 'Percent': 99.99989405222898, 'Count': 5},\n",
       "   {'Start': 0.07, 'End': 0.08, 'Percent': 99.99997351305724, 'Count': 18},\n",
       "   {'Start': 0.08, 'End': 0.09, 'Percent': 99.99998675652863, 'Count': 3},\n",
       "   {'Start': 0.09, 'End': 0.1, 'Percent': 99.99999117101908, 'Count': 1},\n",
       "   {'Start': 0.1, 'End': 0.12, 'Percent': 99.99999558550954, 'Count': 1},\n",
       "   {'Start': 0.14, 'End': 0.140659423, 'Percent': 100, 'Count': 1}],\n",
       "  'Percentiles': None},\n",
       " 'ErrorsDurationHistogram': {'Count': 0,\n",
       "  'Min': 0,\n",
       "  'Max': 0,\n",
       "  'Sum': 0,\n",
       "  'Avg': 0,\n",
       "  'StdDev': 0,\n",
       "  'Data': None,\n",
       "  'Percentiles': None},\n",
       " 'Exactly': 0,\n",
       " 'Jitter': False,\n",
       " 'Uniform': False,\n",
       " 'NoCatchUp': False,\n",
       " 'RunID': 2,\n",
       " 'AccessLoggerInfo': '',\n",
       " 'RetCodes': {'200': 22652671},\n",
       " 'Insecure': False,\n",
       " 'CACert': '',\n",
       " 'Cert': '',\n",
       " 'Key': '',\n",
       " 'UnixDomainSocket': '',\n",
       " 'URL': 'http://target-fortio.default.svc.cluster.local:8080',\n",
       " 'NumConnections': 1,\n",
       " 'Compression': False,\n",
       " 'DisableFastClient': False,\n",
       " 'HTTP10': False,\n",
       " 'DisableKeepAlive': False,\n",
       " 'AllowHalfClose': False,\n",
       " 'FollowRedirects': False,\n",
       " 'Resolve': '',\n",
       " 'HTTPReqTimeOut': 3000000000,\n",
       " 'UserCredentials': '',\n",
       " 'ContentType': '',\n",
       " 'Payload': None,\n",
       " 'LogErrors': False,\n",
       " 'ID': 0,\n",
       " 'SequentialWarmup': False,\n",
       " 'Sizes': {'Count': 22652671,\n",
       "  'Min': 75,\n",
       "  'Max': 75,\n",
       "  'Sum': 1698950325,\n",
       "  'Avg': 75,\n",
       "  'StdDev': 0,\n",
       "  'Data': [{'Start': 75, 'End': 75, 'Percent': 100, 'Count': 22652671}],\n",
       "  'Percentiles': None},\n",
       " 'HeaderSizes': {'Count': 22652671,\n",
       "  'Min': 75,\n",
       "  'Max': 75,\n",
       "  'Sum': 1698950325,\n",
       "  'Avg': 75,\n",
       "  'StdDev': 0,\n",
       "  'Data': [{'Start': 75, 'End': 75, 'Percent': 100, 'Count': 22652671}],\n",
       "  'Percentiles': None},\n",
       " 'SocketCount': 4,\n",
       " 'AbortOn': 0}"
      ]
     },
     "execution_count": 6,
     "metadata": {},
     "output_type": "execute_result"
    }
   ],
   "source": [
    "result_file =  \"/Users/richardbieringa/Projects/mesh-bench/results/micro-bench/01_workload/2-nodes.json\"\n",
    "\n",
    "with open(result_file) as f:\n",
    "    data  = json.load(f)\n",
    "\n",
    "data"
   ]
  },
  {
   "cell_type": "code",
   "execution_count": 8,
   "metadata": {},
   "outputs": [
    {
     "data": {
      "text/plain": [
       "[{'Start': 5.9961e-05,\n",
       "  'End': 0.001,\n",
       "  'Percent': 99.74081643617214,\n",
       "  'Count': 22593959},\n",
       " {'Start': 0.001, 'End': 0.002, 'Percent': 99.89589307150578, 'Count': 35129},\n",
       " {'Start': 0.002, 'End': 0.003, 'Percent': 99.93818830459331, 'Count': 9581},\n",
       " {'Start': 0.003, 'End': 0.004, 'Percent': 99.95708673824822, 'Count': 4281},\n",
       " {'Start': 0.004, 'End': 0.005, 'Percent': 99.96927956089593, 'Count': 2762},\n",
       " {'Start': 0.005, 'End': 0.006, 'Percent': 99.97900909786753, 'Count': 2204},\n",
       " {'Start': 0.006, 'End': 0.007, 'Percent': 99.98675211413259, 'Count': 1754},\n",
       " {'Start': 0.007, 'End': 0.008, 'Percent': 99.99078254392164, 'Count': 913},\n",
       " {'Start': 0.008,\n",
       "  'End': 0.009000000000000001,\n",
       "  'Percent': 99.99274257768543,\n",
       "  'Count': 444},\n",
       " {'Start': 0.009000000000000001,\n",
       "  'End': 0.01,\n",
       "  'Percent': 99.99453927530223,\n",
       "  'Count': 407},\n",
       " {'Start': 0.01, 'End': 0.011, 'Percent': 99.99659642785612, 'Count': 466},\n",
       " {'Start': 0.011, 'End': 0.012, 'Percent': 99.9973204042914, 'Count': 164},\n",
       " {'Start': 0.012, 'End': 0.014, 'Percent': 99.99800023582208, 'Count': 154},\n",
       " {'Start': 0.014, 'End': 0.016, 'Percent': 99.9983313226065, 'Count': 75},\n",
       " {'Start': 0.016,\n",
       "  'End': 0.018000000000000002,\n",
       "  'Percent': 99.99848141528211,\n",
       "  'Count': 34},\n",
       " {'Start': 0.018000000000000002,\n",
       "  'End': 0.02,\n",
       "  'Percent': 99.99865799490047,\n",
       "  'Count': 40},\n",
       " {'Start': 0.02, 'End': 0.025, 'Percent': 99.99890079187571, 'Count': 55},\n",
       " {'Start': 0.025, 'End': 0.03, 'Percent': 99.99917007579371, 'Count': 61},\n",
       " {'Start': 0.03, 'End': 0.035, 'Percent': 99.99935989888344, 'Count': 43},\n",
       " {'Start': 0.035, 'End': 0.04, 'Percent': 99.99952764952089, 'Count': 38},\n",
       " {'Start': 0.04, 'End': 0.045, 'Percent': 99.99962035382053, 'Count': 21},\n",
       " {'Start': 0.045, 'End': 0.05, 'Percent': 99.9996777421965, 'Count': 13},\n",
       " {'Start': 0.05, 'End': 0.06, 'Percent': 99.99987197977669, 'Count': 44},\n",
       " {'Start': 0.06, 'End': 0.07, 'Percent': 99.99989405222898, 'Count': 5},\n",
       " {'Start': 0.07, 'End': 0.08, 'Percent': 99.99997351305724, 'Count': 18},\n",
       " {'Start': 0.08, 'End': 0.09, 'Percent': 99.99998675652863, 'Count': 3},\n",
       " {'Start': 0.09, 'End': 0.1, 'Percent': 99.99999117101908, 'Count': 1},\n",
       " {'Start': 0.1, 'End': 0.12, 'Percent': 99.99999558550954, 'Count': 1},\n",
       " {'Start': 0.14, 'End': 0.140659423, 'Percent': 100, 'Count': 1}]"
      ]
     },
     "execution_count": 8,
     "metadata": {},
     "output_type": "execute_result"
    }
   ],
   "source": [
    "binned_data = data[\"DurationHistogram\"][\"Data\"]"
   ]
  },
  {
   "cell_type": "code",
   "execution_count": 15,
   "metadata": {},
   "outputs": [],
   "source": [
    "samples  = []\n",
    "for bin in binned_data:\n",
    "    # Samples are uniformly distributed over the half-open interval [low, high)\n",
    "    # (includes low, but excludes high).\n",
    "    low = bin[\"Start\"]\n",
    "    high = bin[\"End\"]\n",
    "    size = bin[\"Count\"]\n",
    "    samples.append(np.random.uniform(low=low, high=high, size=size))"
   ]
  },
  {
   "cell_type": "code",
   "execution_count": 23,
   "metadata": {},
   "outputs": [],
   "source": [
    "sampled_data = np.concatenate(samples)\n",
    "sampled_data = sampled_data * 1000"
   ]
  },
  {
   "cell_type": "code",
   "execution_count": 27,
   "metadata": {},
   "outputs": [
    {
     "data": {
      "text/plain": [
       "0             0.823876\n",
       "1             0.844635\n",
       "2             0.889253\n",
       "3             0.535233\n",
       "4             0.343590\n",
       "               ...    \n",
       "22652666     87.771310\n",
       "22652667     80.975206\n",
       "22652668     92.654483\n",
       "22652669    116.912051\n",
       "22652670    140.053909\n",
       "Length: 22652671, dtype: float64"
      ]
     },
     "execution_count": 27,
     "metadata": {},
     "output_type": "execute_result"
    }
   ],
   "source": [
    "s = pd.Series(sampled_data, \"latency\")\n",
    "s"
   ]
  },
  {
   "cell_type": "code",
   "execution_count": 32,
   "metadata": {},
   "outputs": [
    {
     "data": {
      "image/png": "[encoded data removed]",
      "text/plain": [
       "<Figure size 432x288 with 1 Axes>"
      ]
     },
     "metadata": {
      "needs_background": "light"
     },
     "output_type": "display_data"
    }
   ],
   "source": [
    "ax = sns.violinplot(data=s, x=\"latency\")\n",
    "ax.set_yscale(\"log\")"
   ]
  },
  {
   "cell_type": "code",
   "execution_count": 31,
   "metadata": {},
   "outputs": [
    {
     "data": {
      "image/png": "[encoded data removed]",
      "text/plain": [
       "<Figure size 432x288 with 1 Axes>"
      ]
     },
     "metadata": {
      "needs_background": "light"
     },
     "output_type": "display_data"
    }
   ],
   "source": [
    "ax = sns.boxplot(data=s)\n",
    "ax.set_yscale(\"log\")"
   ]
  }
 ],
 "metadata": {
  "kernelspec": {
   "display_name": "Python 3.8.10 64-bit",
   "language": "python",
   "name": "python3"
  },
  "language_info": {
   "codemirror_mode": {
    "name": "ipython",
    "version": 3
   },
   "file_extension": ".py",
   "mimetype": "text/x-python",
   "name": "python",
   "nbconvert_exporter": "python",
   "pygments_lexer": "ipython3",
   "version": "3.8.10"
  },
  "orig_nbformat": 4,
  "vscode": {
   "interpreter": {
    "hash": "31f2aee4e71d21fbe5cf8b01ff0e069b9275f58929596ceb00d14d90e3e16cd6"
   }
  }
 },
 "nbformat": 4,
 "nbformat_minor": 2
}
