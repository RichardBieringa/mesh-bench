{
 "cells": [
  {
   "cell_type": "code",
   "execution_count": 1,
   "metadata": {},
   "outputs": [],
   "source": [
    "import re\n",
    "import os\n",
    "import pathlib\n",
    "import json\n",
    "\n",
    "import plotnine\n",
    "import requests\n",
    "import numpy as np\n",
    "import pandas as pd\n",
    "import matplotlib.pyplot as plt\n",
    "import seaborn as sns\n",
    "\n",
    "sns.set_theme(style=\"darkgrid\")"
   ]
  },
  {
   "cell_type": "code",
   "execution_count": 2,
   "metadata": {},
   "outputs": [
    {
     "data": {
      "text/plain": [
       "PosixPath('/Users/richardbieringa/Projects/mesh-bench/results/02_http_constant_throughput')"
      ]
     },
     "execution_count": 2,
     "metadata": {},
     "output_type": "execute_result"
    }
   ],
   "source": [
    "experiment = \"02_http_constant_throughput\"\n",
    "\n",
    "# Root of the project\n",
    "project_dir = pathlib.Path().resolve().parent\n",
    "\n",
    "# Directory containing experiment results\n",
    "results_dir = (pathlib.Path(project_dir) / \"results\" / experiment).resolve()\n",
    "results_dir"
   ]
  },
  {
   "cell_type": "code",
   "execution_count": null,
   "metadata": {},
   "outputs": [],
   "source": [
    "\n",
    "\"\"\"\n",
    "Parse all experiment results:\n",
    "- Read the JSON files as a flat data structure\n",
    "- Parse each result file as a individual data frame\n",
    "- Concatenate all data frames where each row represents an observation\n",
    "\"\"\"\n",
    "\n",
    "# Regex to extra# 0 -> Full match\n",
    "# 1 -> Protocol (http/grpc)\n",
    "# 2 -> Mesh\n",
    "# 3 -> Requested QPS\n",
    "# 4 -> Transfer in bytes\n",
    "# 5 -> Repetitionct dimensions from the filename\n",
    "name_re = re.compile(\"^([a-z]+)_([a-z]+)_(\\d+|MAX)_(\\d+)_(\\d+).*json$\")\n",
    "\n",
    "# Traverse all files in the results directory and construct dataframes form them\n",
    "dfs = []\n",
    "for root, _, files in os.walk(results_dir, topdown=False):\n",
    "\n",
    "    print(f\"Parsing Experiment results:\")\n",
    "    print(f\"Exp: {experiment}\\nResults: {len(files)}\")\n",
    "\n",
    "    for file in files:\n",
    "        # Extract metadata from the result\n",
    "        matches = re.match(name_re, file)\n",
    "\n",
    "        # Absolute path of the results file\n",
    "        p = (pathlib.Path(root) / file).resolve()\n",
    "\n",
    "        with open(p) as f:\n",
    "            data = json.loads(f.read())\n",
    "            \n",
    "            # Transform the flattened json into a dataframe\n",
    "            df = pd.json_normalize(data)\n",
    "            df[\"mesh\"] = matches[2]\n",
    "            df[\"payload\"] = matches[4]\n",
    "            df[\"repetition\"] = matches[5]\n",
    "\n",
    "            dfs.append(df)\n",
    "\n",
    "df = pd.concat(dfs)\n",
    "df"
   ]
  }
 ],
 "metadata": {
  "kernelspec": {
   "display_name": "Python 3.10.0 64-bit ('3.10.0')",
   "language": "python",
   "name": "python3"
  },
  "language_info": {
   "codemirror_mode": {
    "name": "ipython",
    "version": 3
   },
   "file_extension": ".py",
   "mimetype": "text/x-python",
   "name": "python",
   "nbconvert_exporter": "python",
   "pygments_lexer": "ipython3",
   "version": "3.10.0"
  },
  "orig_nbformat": 4,
  "vscode": {
   "interpreter": {
    "hash": "59a8f6343108273ca69e92a22b71526a2db6910e600833884571441fcec4c848"
   }
  }
 },
 "nbformat": 4,
 "nbformat_minor": 2
}
