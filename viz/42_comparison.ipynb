{
 "cells": [
  {
   "cell_type": "code",
   "execution_count": 2,
   "metadata": {},
   "outputs": [],
   "source": [
    "import re\n",
    "import os\n",
    "import pathlib\n",
    "import json\n",
    "\n",
    "import numpy as np\n",
    "import pandas as pd\n",
    "import matplotlib.pyplot as plt\n",
    "import matplotlib.ticker as ticker\n",
    "from matplotlib import gridspec\n",
    "import seaborn as sns\n",
    "import warnings\n",
    "warnings.simplefilter(action='ignore', category=FutureWarning)\n",
    "sns.set_theme(style=\"darkgrid\")\n",
    "\n",
    "# Root of the project\n",
    "project_dir = pathlib.Path().resolve().parent\n",
    "\n",
    "# Directory containing experiment results\n",
    "results_dir = (pathlib.Path(project_dir) / \"results\").resolve()\n",
    "\n",
    "# Directory for tidied data (output directory)\n",
    "data_dir = (pathlib.Path(project_dir) / \"data\").resolve()\n",
    "\n",
    "# Directory to store all plots\n",
    "plot_dir = (pathlib.Path(project_dir) / \"plots\").resolve()\n",
    "\n",
    "\n",
    "\n",
    "# Experiment constants\n",
    "exp_name = \"04_grpc_max_throughput\"\n",
    "file_prefix = \"exp-04\""
   ]
  },
  {
   "cell_type": "code",
   "execution_count": 3,
   "metadata": {},
   "outputs": [
    {
     "data": {
      "text/html": [
       "<div>\n",
       "<style scoped>\n",
       "    .dataframe tbody tr th:only-of-type {\n",
       "        vertical-align: middle;\n",
       "    }\n",
       "\n",
       "    .dataframe tbody tr th {\n",
       "        vertical-align: top;\n",
       "    }\n",
       "\n",
       "    .dataframe thead th {\n",
       "        text-align: right;\n",
       "    }\n",
       "</style>\n",
       "<table border=\"1\" class=\"dataframe\">\n",
       "  <thead>\n",
       "    <tr style=\"text-align: right;\">\n",
       "      <th></th>\n",
       "      <th>experiment</th>\n",
       "      <th>mesh</th>\n",
       "      <th>requested_qps</th>\n",
       "      <th>protocol</th>\n",
       "      <th>payload</th>\n",
       "      <th>latency</th>\n",
       "    </tr>\n",
       "  </thead>\n",
       "  <tbody>\n",
       "    <tr>\n",
       "      <th>39152989</th>\n",
       "      <td>01_http_max_throughput</td>\n",
       "      <td>Baseline</td>\n",
       "      <td>MAX</td>\n",
       "      <td>http</td>\n",
       "      <td>0</td>\n",
       "      <td>1.260683</td>\n",
       "    </tr>\n",
       "    <tr>\n",
       "      <th>42845273</th>\n",
       "      <td>01_http_max_throughput</td>\n",
       "      <td>Baseline</td>\n",
       "      <td>MAX</td>\n",
       "      <td>http</td>\n",
       "      <td>0</td>\n",
       "      <td>1.573744</td>\n",
       "    </tr>\n",
       "    <tr>\n",
       "      <th>42845272</th>\n",
       "      <td>01_http_max_throughput</td>\n",
       "      <td>Baseline</td>\n",
       "      <td>MAX</td>\n",
       "      <td>http</td>\n",
       "      <td>0</td>\n",
       "      <td>1.457992</td>\n",
       "    </tr>\n",
       "    <tr>\n",
       "      <th>42845271</th>\n",
       "      <td>01_http_max_throughput</td>\n",
       "      <td>Baseline</td>\n",
       "      <td>MAX</td>\n",
       "      <td>http</td>\n",
       "      <td>0</td>\n",
       "      <td>1.438073</td>\n",
       "    </tr>\n",
       "    <tr>\n",
       "      <th>42845270</th>\n",
       "      <td>01_http_max_throughput</td>\n",
       "      <td>Baseline</td>\n",
       "      <td>MAX</td>\n",
       "      <td>http</td>\n",
       "      <td>0</td>\n",
       "      <td>1.585065</td>\n",
       "    </tr>\n",
       "  </tbody>\n",
       "</table>\n",
       "</div>"
      ],
      "text/plain": [
       "                      experiment      mesh requested_qps protocol payload  \\\n",
       "39152989  01_http_max_throughput  Baseline           MAX     http       0   \n",
       "42845273  01_http_max_throughput  Baseline           MAX     http       0   \n",
       "42845272  01_http_max_throughput  Baseline           MAX     http       0   \n",
       "42845271  01_http_max_throughput  Baseline           MAX     http       0   \n",
       "42845270  01_http_max_throughput  Baseline           MAX     http       0   \n",
       "\n",
       "           latency  \n",
       "39152989  1.260683  \n",
       "42845273  1.573744  \n",
       "42845272  1.457992  \n",
       "42845271  1.438073  \n",
       "42845270  1.585065  "
      ]
     },
     "execution_count": 3,
     "metadata": {},
     "output_type": "execute_result"
    }
   ],
   "source": [
    "\"\"\"Load and prepare the dataset\n",
    "\n",
    "resource_df -> CPU/Mem utilization for experiments\n",
    "fortio_df -> Load test results from fortio\n",
    "\"\"\"\n",
    "\n",
    "# df = pd.read_feather(data_dir / \"resource_results.feather\")\n",
    "df = pd.read_feather(data_dir / \"fortio_results.feather\")\n",
    "\n",
    "df = df.loc[(df[\"experiment\"] == exp_name) | (df[\"experiment\"] == \"01_http_max_throughput\"), :]\n",
    "df = df.drop(\"actual_qps\", 1)\n",
    "df = df.explode(\"latency\")\n",
    "df = df.reset_index(drop=True)\n",
    "df = df.astype({\n",
    "    \"experiment\": \"category\",\n",
    "    \"mesh\": \"category\",\n",
    "    \"requested_qps\": \"category\",\n",
    "    \"payload\": \"category\",\n",
    "    \"protocol\": \"category\",\n",
    "    \"latency\": np.float64,\n",
    "})\n",
    "\n",
    "df = df.sort_values(\"mesh\", ascending=True)\n",
    "\n",
    "df.head()"
   ]
  },
  {
   "cell_type": "code",
   "execution_count": 27,
   "metadata": {},
   "outputs": [
    {
     "data": {
      "image/png": "[encoded data removed]",
      "text/plain": [
       "<Figure size 432x288 with 1 Axes>"
      ]
     },
     "metadata": {
      "needs_background": "light"
     },
     "output_type": "display_data"
    }
   ],
   "source": [
    "\"\"\"\n",
    "PLOT: Boxplot latency by mesh\n",
    "Desc: Show 25p med 50p latencies\n",
    "\"\"\"\n",
    "\n",
    "file_name = f\"{file_prefix}-latency-compared.pdf\"\n",
    "\n",
    "fig, ax = plt.subplots()\n",
    "ax = sns.boxplot(data=df, x=\"latency\", y=\"mesh\", hue=\"protocol\", order=[\"Baseline\", \"Cilium\", \"Istio\", \"Linkerd\"], showfliers=False)\n",
    "\n",
    "# Labels\n",
    "ax.set_ylabel(\"Service Mesh\")\n",
    "ax.set_xlabel(\"Latency (ms)\")\n",
    "\n",
    "# ax.set_xscale(\"log\")\n",
    "ax.legend(title=\"Application Protocol\")\n",
    "fig.tight_layout()\n",
    "fig.savefig(plot_dir / file_name)"
   ]
  },
  {
   "cell_type": "code",
   "execution_count": 18,
   "metadata": {},
   "outputs": [
    {
     "data": {
      "text/html": [
       "<div>\n",
       "<style scoped>\n",
       "    .dataframe tbody tr th:only-of-type {\n",
       "        vertical-align: middle;\n",
       "    }\n",
       "\n",
       "    .dataframe tbody tr th {\n",
       "        vertical-align: top;\n",
       "    }\n",
       "\n",
       "    .dataframe thead th {\n",
       "        text-align: right;\n",
       "    }\n",
       "</style>\n",
       "<table border=\"1\" class=\"dataframe\">\n",
       "  <thead>\n",
       "    <tr style=\"text-align: right;\">\n",
       "      <th></th>\n",
       "      <th>mesh</th>\n",
       "      <th>protocol</th>\n",
       "      <th>percentile</th>\n",
       "      <th>latency</th>\n",
       "    </tr>\n",
       "  </thead>\n",
       "  <tbody>\n",
       "    <tr>\n",
       "      <th>0</th>\n",
       "      <td>Baseline</td>\n",
       "      <td>grpc</td>\n",
       "      <td>99.00</td>\n",
       "      <td>8.699719</td>\n",
       "    </tr>\n",
       "    <tr>\n",
       "      <th>1</th>\n",
       "      <td>Baseline</td>\n",
       "      <td>grpc</td>\n",
       "      <td>99.90</td>\n",
       "      <td>17.348388</td>\n",
       "    </tr>\n",
       "    <tr>\n",
       "      <th>2</th>\n",
       "      <td>Baseline</td>\n",
       "      <td>grpc</td>\n",
       "      <td>99.99</td>\n",
       "      <td>67.603146</td>\n",
       "    </tr>\n",
       "    <tr>\n",
       "      <th>3</th>\n",
       "      <td>Baseline</td>\n",
       "      <td>http</td>\n",
       "      <td>99.00</td>\n",
       "      <td>7.420944</td>\n",
       "    </tr>\n",
       "    <tr>\n",
       "      <th>4</th>\n",
       "      <td>Baseline</td>\n",
       "      <td>http</td>\n",
       "      <td>99.90</td>\n",
       "      <td>12.984117</td>\n",
       "    </tr>\n",
       "  </tbody>\n",
       "</table>\n",
       "</div>"
      ],
      "text/plain": [
       "       mesh protocol  percentile    latency\n",
       "0  Baseline     grpc       99.00   8.699719\n",
       "1  Baseline     grpc       99.90  17.348388\n",
       "2  Baseline     grpc       99.99  67.603146\n",
       "3  Baseline     http       99.00   7.420944\n",
       "4  Baseline     http       99.90  12.984117"
      ]
     },
     "execution_count": 18,
     "metadata": {},
     "output_type": "execute_result"
    }
   ],
   "source": [
    "# The quantiles to plot\n",
    "quantiles = [\n",
    "    0.99,\n",
    "    0.999,\n",
    "    0.9999\n",
    "]\n",
    "\n",
    "data = df.groupby([\"mesh\", \"protocol\"])[\"latency\"].quantile(quantiles)\n",
    "data = data.reset_index().rename(columns={\"level_2\": \"percentile\"})\n",
    "data[\"percentile\"] *= 100\n",
    "data.head()"
   ]
  },
  {
   "cell_type": "code",
   "execution_count": 25,
   "metadata": {},
   "outputs": [
    {
     "data": {
      "image/png": "[encoded data removed]",
      "text/plain": [
       "<Figure size 790.975x360 with 2 Axes>"
      ]
     },
     "metadata": {
      "needs_background": "light"
     },
     "output_type": "display_data"
    }
   ],
   "source": [
    "\"\"\"\n",
    "PLOT: Tail End Latencies\n",
    "\"\"\"\n",
    "\n",
    "# Plotting\n",
    "file_name = f\"{file_prefix}-tail-latencies-all-compared.pdf\"\n",
    "\n",
    "g = sns.catplot(data=data, y=\"mesh\", x=\"latency\", hue=\"percentile\", col=\"protocol\", kind=\"bar\")\n",
    "\n",
    "axes = g.axes.flatten()\n",
    "\n",
    "g.set_axis_labels(\"Latency (ms)\", \"Service Mesh\")\n",
    "# g.set_axis_labels(\"Service Mesh\",\"Latency (ms)\")\n",
    "axes[0].set_title(\"gRPC Workload\")\n",
    "axes[1].set_title(\"HTTP Workload\")\n",
    "# axes[1].set_title(\"10Kb Payload\")\n",
    "# axes[3].set_title(\"1000 Request/s\")\n",
    "\n",
    "g.legend.set_title(\"Percentile\")\n",
    "\n",
    "g.figure.savefig(plot_dir / file_name)"
   ]
  }
 ],
 "metadata": {
  "kernelspec": {
   "display_name": "Python 3.8.10 64-bit",
   "language": "python",
   "name": "python3"
  },
  "language_info": {
   "codemirror_mode": {
    "name": "ipython",
    "version": 3
   },
   "file_extension": ".py",
   "mimetype": "text/x-python",
   "name": "python",
   "nbconvert_exporter": "python",
   "pygments_lexer": "ipython3",
   "version": "3.8.10"
  },
  "orig_nbformat": 4,
  "vscode": {
   "interpreter": {
    "hash": "31f2aee4e71d21fbe5cf8b01ff0e069b9275f58929596ceb00d14d90e3e16cd6"
   }
  }
 },
 "nbformat": 4,
 "nbformat_minor": 2
}
