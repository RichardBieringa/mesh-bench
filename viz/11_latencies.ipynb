{
 "cells": [
  {
   "cell_type": "code",
   "execution_count": 1,
   "metadata": {},
   "outputs": [],
   "source": [
    "import re\n",
    "import os\n",
    "import pathlib\n",
    "import json\n",
    "\n",
    "import numpy as np\n",
    "import pandas as pd\n",
    "import matplotlib.pyplot as plt\n",
    "import matplotlib.ticker as ticker\n",
    "from matplotlib import gridspec\n",
    "import seaborn as sns\n",
    "import warnings\n",
    "warnings.simplefilter(action='ignore', category=FutureWarning)\n",
    "sns.set_theme(style=\"darkgrid\")\n",
    "\n",
    "# Root of the project\n",
    "project_dir = pathlib.Path().resolve().parent\n",
    "\n",
    "# Directory containing experiment results\n",
    "results_dir = (pathlib.Path(project_dir) / \"results\").resolve()\n",
    "\n",
    "# Directory for tidied data (output directory)\n",
    "data_dir = (pathlib.Path(project_dir) / \"data\").resolve()\n",
    "\n",
    "# Directory to store all plots\n",
    "plot_dir = (pathlib.Path(project_dir) / \"plots\").resolve()\n",
    "\n",
    "\n",
    "\n",
    "# Experiment constants\n",
    "exp_name = \"01_http_max_throughput\"\n",
    "file_prefix = \"exp-01\""
   ]
  },
  {
   "cell_type": "code",
   "execution_count": 2,
   "metadata": {},
   "outputs": [
    {
     "data": {
      "text/html": [
       "<div>\n",
       "<style scoped>\n",
       "    .dataframe tbody tr th:only-of-type {\n",
       "        vertical-align: middle;\n",
       "    }\n",
       "\n",
       "    .dataframe tbody tr th {\n",
       "        vertical-align: top;\n",
       "    }\n",
       "\n",
       "    .dataframe thead th {\n",
       "        text-align: right;\n",
       "    }\n",
       "</style>\n",
       "<table border=\"1\" class=\"dataframe\">\n",
       "  <thead>\n",
       "    <tr style=\"text-align: right;\">\n",
       "      <th></th>\n",
       "      <th>experiment</th>\n",
       "      <th>mesh</th>\n",
       "      <th>requested_qps</th>\n",
       "      <th>protocol</th>\n",
       "      <th>payload</th>\n",
       "      <th>latency</th>\n",
       "    </tr>\n",
       "  </thead>\n",
       "  <tbody>\n",
       "    <tr>\n",
       "      <th>39588490</th>\n",
       "      <td>01_http_max_throughput</td>\n",
       "      <td>Baseline</td>\n",
       "      <td>MAX</td>\n",
       "      <td>http</td>\n",
       "      <td>0</td>\n",
       "      <td>1.260004</td>\n",
       "    </tr>\n",
       "    <tr>\n",
       "      <th>41873570</th>\n",
       "      <td>01_http_max_throughput</td>\n",
       "      <td>Baseline</td>\n",
       "      <td>MAX</td>\n",
       "      <td>http</td>\n",
       "      <td>0</td>\n",
       "      <td>1.494196</td>\n",
       "    </tr>\n",
       "    <tr>\n",
       "      <th>41873569</th>\n",
       "      <td>01_http_max_throughput</td>\n",
       "      <td>Baseline</td>\n",
       "      <td>MAX</td>\n",
       "      <td>http</td>\n",
       "      <td>0</td>\n",
       "      <td>1.552722</td>\n",
       "    </tr>\n",
       "    <tr>\n",
       "      <th>41873568</th>\n",
       "      <td>01_http_max_throughput</td>\n",
       "      <td>Baseline</td>\n",
       "      <td>MAX</td>\n",
       "      <td>http</td>\n",
       "      <td>0</td>\n",
       "      <td>1.545147</td>\n",
       "    </tr>\n",
       "    <tr>\n",
       "      <th>41873567</th>\n",
       "      <td>01_http_max_throughput</td>\n",
       "      <td>Baseline</td>\n",
       "      <td>MAX</td>\n",
       "      <td>http</td>\n",
       "      <td>0</td>\n",
       "      <td>1.533766</td>\n",
       "    </tr>\n",
       "  </tbody>\n",
       "</table>\n",
       "</div>"
      ],
      "text/plain": [
       "                      experiment      mesh requested_qps protocol payload  \\\n",
       "39588490  01_http_max_throughput  Baseline           MAX     http       0   \n",
       "41873570  01_http_max_throughput  Baseline           MAX     http       0   \n",
       "41873569  01_http_max_throughput  Baseline           MAX     http       0   \n",
       "41873568  01_http_max_throughput  Baseline           MAX     http       0   \n",
       "41873567  01_http_max_throughput  Baseline           MAX     http       0   \n",
       "\n",
       "           latency  \n",
       "39588490  1.260004  \n",
       "41873570  1.494196  \n",
       "41873569  1.552722  \n",
       "41873568  1.545147  \n",
       "41873567  1.533766  "
      ]
     },
     "execution_count": 2,
     "metadata": {},
     "output_type": "execute_result"
    }
   ],
   "source": [
    "\"\"\"Load and prepare the dataset\n",
    "\n",
    "resource_df -> CPU/Mem utilization for experiments\n",
    "fortio_df -> Load test results from fortio\n",
    "\"\"\"\n",
    "\n",
    "# df = pd.read_feather(data_dir / \"resource_results.feather\")\n",
    "df = pd.read_feather(data_dir / \"fortio_results.feather\")\n",
    "\n",
    "df = df[df[\"experiment\"] == exp_name]\n",
    "df = df.drop(\"actual_qps\", 1)\n",
    "df = df.explode(\"latency\")\n",
    "df = df.reset_index(drop=True)\n",
    "df = df.astype({\n",
    "    \"experiment\": \"category\",\n",
    "    \"mesh\": \"category\",\n",
    "    \"requested_qps\": \"category\",\n",
    "    \"payload\": \"category\",\n",
    "    \"protocol\": \"category\",\n",
    "    \"latency\": np.float64,\n",
    "})\n",
    "\n",
    "df = df.sort_values(\"mesh\", ascending=True)\n",
    "\n",
    "df.head()"
   ]
  },
  {
   "cell_type": "code",
   "execution_count": 3,
   "metadata": {},
   "outputs": [
    {
     "data": {
      "image/png": "[encoded data removed]",
      "text/plain": [
       "<Figure size 432x288 with 1 Axes>"
      ]
     },
     "metadata": {
      "needs_background": "light"
     },
     "output_type": "display_data"
    }
   ],
   "source": [
    "\"\"\"\n",
    "PLOT: Boxplot latency by mesh\n",
    "Desc: Show 25p med 50p latencies\n",
    "\"\"\"\n",
    "\n",
    "file_name = f\"{file_prefix}-latency-log.pdf\"\n",
    "\n",
    "fig, ax = plt.subplots()\n",
    "ax = sns.boxplot(data=df, x=\"latency\", y=\"mesh\", showfliers=False)\n",
    "\n",
    "# Labels\n",
    "ax.set_ylabel(\"Service Mesh\")\n",
    "ax.set_xlabel(\"Latency (ms)\")\n",
    "\n",
    "ax.set_xscale(\"log\")\n",
    "\n",
    "fig.tight_layout()\n",
    "fig.savefig(plot_dir / file_name)"
   ]
  },
  {
   "cell_type": "code",
   "execution_count": 4,
   "metadata": {},
   "outputs": [
    {
     "data": {
      "image/png": "[encoded data removed]",
      "text/plain": [
       "<Figure size 432x288 with 1 Axes>"
      ]
     },
     "metadata": {
      "needs_background": "light"
     },
     "output_type": "display_data"
    }
   ],
   "source": [
    "\"\"\"\n",
    "PLOT: Boxplot latency by mesh\n",
    "Desc: Latency distributions\n",
    "\"\"\"\n",
    "\n",
    "file_name = f\"{file_prefix}-latency-no-traefik.pdf\"\n",
    "\n",
    "\n",
    "order = ['Baseline', 'Cilium', 'Istio', 'Linkerd']\n",
    "\n",
    "fig, ax = plt.subplots()\n",
    "ax = sns.boxplot(data=df, x=\"latency\", y=\"mesh\", order=order, showfliers=False)\n",
    "\n",
    "# Labels\n",
    "ax.set_ylabel(\"Service Mesh\")\n",
    "ax.set_xlabel(\"Latency (ms)\")\n",
    "\n",
    "\n",
    "fig.tight_layout()\n",
    "fig.savefig(plot_dir / file_name)"
   ]
  }
 ],
 "metadata": {
  "kernelspec": {
   "display_name": "Python 3.8.10 64-bit",
   "language": "python",
   "name": "python3"
  },
  "language_info": {
   "codemirror_mode": {
    "name": "ipython",
    "version": 3
   },
   "file_extension": ".py",
   "mimetype": "text/x-python",
   "name": "python",
   "nbconvert_exporter": "python",
   "pygments_lexer": "ipython3",
   "version": "3.8.10"
  },
  "orig_nbformat": 4,
  "vscode": {
   "interpreter": {
    "hash": "31f2aee4e71d21fbe5cf8b01ff0e069b9275f58929596ceb00d14d90e3e16cd6"
   }
  }
 },
 "nbformat": 4,
 "nbformat_minor": 2
}
