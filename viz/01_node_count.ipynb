{
 "cells": [
  {
   "cell_type": "code",
   "execution_count": 1,
   "metadata": {},
   "outputs": [],
   "source": [
    "import re\n",
    "import os\n",
    "import pathlib\n",
    "import json\n",
    "\n",
    "import numpy as np\n",
    "import pandas as pd\n",
    "import matplotlib.pyplot as plt\n",
    "import matplotlib.ticker as ticker\n",
    "from matplotlib import gridspec\n",
    "import seaborn as sns\n",
    "import warnings\n",
    "warnings.simplefilter(action='ignore', category=FutureWarning)\n",
    "sns.set_theme(style=\"darkgrid\")\n",
    "\n",
    "# Root of the project\n",
    "project_dir = pathlib.Path().resolve().parent\n",
    "\n",
    "# Directory containing experiment results\n",
    "results_dir = (pathlib.Path(project_dir) / \"results\").resolve()\n",
    "\n",
    "# Directory for tidied data (output directory)\n",
    "data_dir = (pathlib.Path(project_dir) / \"data\").resolve()\n",
    "\n",
    "# Directory to store all plots\n",
    "plot_dir = (pathlib.Path(project_dir) / \"plots\").resolve()"
   ]
  },
  {
   "cell_type": "code",
   "execution_count": 2,
   "metadata": {},
   "outputs": [],
   "source": [
    "# Load microbench 01 (node count results)\n",
    "\n",
    "with open(results_dir / \"micro-bench/01_workload/1-node_new.json\") as f:\n",
    "    one_node = json.load(f)\n",
    "\n",
    "with open(results_dir / \"micro-bench/01_workload/2-node_new.json\") as f:\n",
    "    two_node = json.load(f)\n"
   ]
  },
  {
   "cell_type": "code",
   "execution_count": 3,
   "metadata": {},
   "outputs": [
    {
     "data": {
      "image/png": "[encoded data removed]",
      "text/plain": [
       "<Figure size 432x288 with 1 Axes>"
      ]
     },
     "metadata": {
      "needs_background": "light"
     },
     "output_type": "display_data"
    }
   ],
   "source": [
    "\"\"\"Checking the impact on throughput when changing the node count\"\"\"\n",
    "\n",
    "# data\n",
    "x = [\"1 Node\", \"2 Nodes\"]\n",
    "y =  [one_node[\"ActualQPS\"], two_node[\"ActualQPS\"]]\n",
    "\n",
    "fig, ax = plt.subplots()\n",
    "\n",
    "ax = sns.barplot(x=x, y=y, ax=ax)\n",
    "\n",
    "ax.set_ylim(0, 25000)\n",
    "\n",
    "# Show numbers on top of bars\n",
    "ax.bar_label(ax.containers[0])\n",
    "\n",
    "ax.set_ylabel(\"Requests per Second\")\n",
    "ax.set_title(\"Average Requests per Second vs. Node Count\")\n",
    "\n",
    "\n",
    "fig.savefig(plot_dir / \"microbench-node-count.pdf\")\n"
   ]
  }
 ],
 "metadata": {
  "kernelspec": {
   "display_name": "Python 3.8.10 64-bit",
   "language": "python",
   "name": "python3"
  },
  "language_info": {
   "codemirror_mode": {
    "name": "ipython",
    "version": 3
   },
   "file_extension": ".py",
   "mimetype": "text/x-python",
   "name": "python",
   "nbconvert_exporter": "python",
   "pygments_lexer": "ipython3",
   "version": "3.8.10"
  },
  "orig_nbformat": 4,
  "vscode": {
   "interpreter": {
    "hash": "31f2aee4e71d21fbe5cf8b01ff0e069b9275f58929596ceb00d14d90e3e16cd6"
   }
  }
 },
 "nbformat": 4,
 "nbformat_minor": 2
}
