{
 "cells": [
  {
   "cell_type": "code",
   "execution_count": 1,
   "metadata": {},
   "outputs": [],
   "source": [
    "import re\n",
    "import os\n",
    "import pathlib\n",
    "import json\n",
    "\n",
    "import numpy as np\n",
    "import pandas as pd\n",
    "import matplotlib.pyplot as plt\n",
    "import matplotlib.ticker as ticker\n",
    "from matplotlib import gridspec\n",
    "import seaborn as sns\n",
    "import warnings\n",
    "warnings.simplefilter(action='ignore', category=FutureWarning)\n",
    "sns.set_theme(style=\"darkgrid\")\n",
    "\n",
    "# Root of the project\n",
    "project_dir = pathlib.Path().resolve().parent\n",
    "\n",
    "# Directory containing experiment results\n",
    "results_dir = (pathlib.Path(project_dir) / \"results\").resolve()\n",
    "\n",
    "# Directory for tidied data (output directory)\n",
    "data_dir = (pathlib.Path(project_dir) / \"data\").resolve()\n",
    "\n",
    "# Directory to store all plots\n",
    "plot_dir = (pathlib.Path(project_dir) / \"plots\").resolve()\n",
    "\n",
    "\n",
    "\n",
    "# Experiment constants\n",
    "exp_name = \"02_http_constant_throughput\"\n",
    "file_prefix = \"exp-02\""
   ]
  },
  {
   "cell_type": "code",
   "execution_count": 3,
   "metadata": {},
   "outputs": [
    {
     "data": {
      "text/html": [
       "<div>\n",
       "<style scoped>\n",
       "    .dataframe tbody tr th:only-of-type {\n",
       "        vertical-align: middle;\n",
       "    }\n",
       "\n",
       "    .dataframe tbody tr th {\n",
       "        vertical-align: top;\n",
       "    }\n",
       "\n",
       "    .dataframe thead th {\n",
       "        text-align: right;\n",
       "    }\n",
       "</style>\n",
       "<table border=\"1\" class=\"dataframe\">\n",
       "  <thead>\n",
       "    <tr style=\"text-align: right;\">\n",
       "      <th></th>\n",
       "      <th>experiment</th>\n",
       "      <th>mesh</th>\n",
       "      <th>requested_qps</th>\n",
       "      <th>protocol</th>\n",
       "      <th>payload</th>\n",
       "      <th>latency</th>\n",
       "    </tr>\n",
       "  </thead>\n",
       "  <tbody>\n",
       "    <tr>\n",
       "      <th>6601700</th>\n",
       "      <td>02_http_constant_throughput</td>\n",
       "      <td>Baseline</td>\n",
       "      <td>100</td>\n",
       "      <td>http</td>\n",
       "      <td>0</td>\n",
       "      <td>110.851703</td>\n",
       "    </tr>\n",
       "    <tr>\n",
       "      <th>4953938</th>\n",
       "      <td>02_http_constant_throughput</td>\n",
       "      <td>Baseline</td>\n",
       "      <td>1000</td>\n",
       "      <td>http</td>\n",
       "      <td>0</td>\n",
       "      <td>0.123170</td>\n",
       "    </tr>\n",
       "    <tr>\n",
       "      <th>4953939</th>\n",
       "      <td>02_http_constant_throughput</td>\n",
       "      <td>Baseline</td>\n",
       "      <td>1000</td>\n",
       "      <td>http</td>\n",
       "      <td>0</td>\n",
       "      <td>0.115875</td>\n",
       "    </tr>\n",
       "    <tr>\n",
       "      <th>4953940</th>\n",
       "      <td>02_http_constant_throughput</td>\n",
       "      <td>Baseline</td>\n",
       "      <td>1000</td>\n",
       "      <td>http</td>\n",
       "      <td>0</td>\n",
       "      <td>0.197469</td>\n",
       "    </tr>\n",
       "    <tr>\n",
       "      <th>4953941</th>\n",
       "      <td>02_http_constant_throughput</td>\n",
       "      <td>Baseline</td>\n",
       "      <td>1000</td>\n",
       "      <td>http</td>\n",
       "      <td>0</td>\n",
       "      <td>0.147604</td>\n",
       "    </tr>\n",
       "  </tbody>\n",
       "</table>\n",
       "</div>"
      ],
      "text/plain": [
       "                          experiment      mesh requested_qps protocol payload  \\\n",
       "6601700  02_http_constant_throughput  Baseline           100     http       0   \n",
       "4953938  02_http_constant_throughput  Baseline          1000     http       0   \n",
       "4953939  02_http_constant_throughput  Baseline          1000     http       0   \n",
       "4953940  02_http_constant_throughput  Baseline          1000     http       0   \n",
       "4953941  02_http_constant_throughput  Baseline          1000     http       0   \n",
       "\n",
       "            latency  \n",
       "6601700  110.851703  \n",
       "4953938    0.123170  \n",
       "4953939    0.115875  \n",
       "4953940    0.197469  \n",
       "4953941    0.147604  "
      ]
     },
     "execution_count": 3,
     "metadata": {},
     "output_type": "execute_result"
    }
   ],
   "source": [
    "\"\"\"Load and prepare the dataset\n",
    "\n",
    "resource_df -> CPU/Mem utilization for experiments\n",
    "fortio_df -> Load test results from fortio\n",
    "\"\"\"\n",
    "\n",
    "# df = pd.read_feather(data_dir / \"resource_results.feather\")\n",
    "df = pd.read_feather(data_dir / \"fortio_results.feather\")\n",
    "\n",
    "df = df[df[\"experiment\"] == exp_name]\n",
    "df = df.drop(\"actual_qps\", 1)\n",
    "df = df.explode(\"latency\")\n",
    "df = df.reset_index(drop=True)\n",
    "df = df.astype({\n",
    "    \"experiment\": \"category\",\n",
    "    \"mesh\": \"category\",\n",
    "    \"requested_qps\": \"category\",\n",
    "    \"payload\": \"category\",\n",
    "    \"protocol\": \"category\",\n",
    "    \"latency\": np.float64,\n",
    "})\n",
    "\n",
    "df[\"requested_qps\"] = df[\"requested_qps\"].cat.reorder_categories([\"1\", \"100\", \"500\", \"1000\"])\n",
    "\n",
    "df = df.sort_values(\"mesh\", ascending=True)\n",
    "\n",
    "df.head()"
   ]
  },
  {
   "cell_type": "code",
   "execution_count": 8,
   "metadata": {},
   "outputs": [
    {
     "data": {
      "text/html": [
       "<div>\n",
       "<style scoped>\n",
       "    .dataframe tbody tr th:only-of-type {\n",
       "        vertical-align: middle;\n",
       "    }\n",
       "\n",
       "    .dataframe tbody tr th {\n",
       "        vertical-align: top;\n",
       "    }\n",
       "\n",
       "    .dataframe thead th {\n",
       "        text-align: right;\n",
       "    }\n",
       "</style>\n",
       "<table border=\"1\" class=\"dataframe\">\n",
       "  <thead>\n",
       "    <tr style=\"text-align: right;\">\n",
       "      <th></th>\n",
       "      <th>mesh</th>\n",
       "      <th>requested_qps</th>\n",
       "      <th>percentile</th>\n",
       "      <th>latency</th>\n",
       "    </tr>\n",
       "  </thead>\n",
       "  <tbody>\n",
       "    <tr>\n",
       "      <th>0</th>\n",
       "      <td>Baseline</td>\n",
       "      <td>1</td>\n",
       "      <td>99.00</td>\n",
       "      <td>3.281030</td>\n",
       "    </tr>\n",
       "    <tr>\n",
       "      <th>1</th>\n",
       "      <td>Baseline</td>\n",
       "      <td>1</td>\n",
       "      <td>99.90</td>\n",
       "      <td>76.109636</td>\n",
       "    </tr>\n",
       "    <tr>\n",
       "      <th>2</th>\n",
       "      <td>Baseline</td>\n",
       "      <td>1</td>\n",
       "      <td>99.99</td>\n",
       "      <td>97.766238</td>\n",
       "    </tr>\n",
       "    <tr>\n",
       "      <th>3</th>\n",
       "      <td>Baseline</td>\n",
       "      <td>100</td>\n",
       "      <td>99.00</td>\n",
       "      <td>1.447650</td>\n",
       "    </tr>\n",
       "    <tr>\n",
       "      <th>4</th>\n",
       "      <td>Baseline</td>\n",
       "      <td>100</td>\n",
       "      <td>99.90</td>\n",
       "      <td>48.069156</td>\n",
       "    </tr>\n",
       "  </tbody>\n",
       "</table>\n",
       "</div>"
      ],
      "text/plain": [
       "       mesh requested_qps  percentile    latency\n",
       "0  Baseline             1       99.00   3.281030\n",
       "1  Baseline             1       99.90  76.109636\n",
       "2  Baseline             1       99.99  97.766238\n",
       "3  Baseline           100       99.00   1.447650\n",
       "4  Baseline           100       99.90  48.069156"
      ]
     },
     "execution_count": 8,
     "metadata": {},
     "output_type": "execute_result"
    }
   ],
   "source": [
    "# The quantiles to plot\n",
    "quantiles = [\n",
    "    0.99,\n",
    "    0.999,\n",
    "    0.9999\n",
    "]\n",
    "\n",
    "data = df.groupby([\"mesh\", \"requested_qps\"])[\"latency\"].quantile(quantiles)\n",
    "data = data.reset_index().rename(columns={\"level_2\": \"percentile\"})\n",
    "data[\"percentile\"] *= 100\n",
    "data.head()"
   ]
  },
  {
   "cell_type": "code",
   "execution_count": 9,
   "metadata": {},
   "outputs": [
    {
     "data": {
      "image/png": "[encoded data removed]",
      "text/plain": [
       "<Figure size 432x288 with 1 Axes>"
      ]
     },
     "metadata": {
      "needs_background": "light"
     },
     "output_type": "display_data"
    }
   ],
   "source": [
    "\"\"\"\n",
    "PLOT: Tail End Latencies\n",
    "\"\"\"\n",
    "\n",
    "# Plotting\n",
    "file_name = f\"{file_prefix}-tail-latencies.pdf\"\n",
    "\n",
    "fig, ax = plt.subplots()\n",
    "ax = sns.barplot(data=data, x=\"mesh\", y=\"latency\", hue=\"percentile\")\n",
    "\n",
    "# Scaling\n",
    "# ax.set_xscale()\n",
    "# ax.set_yscale()\n",
    "\n",
    "# Limits\n",
    "# ax.set_xscale()\n",
    "# ax.set_yscale()\n",
    "\n",
    "# Labels\n",
    "ax.set_xlabel(\"Service Mesh\")\n",
    "ax.set_ylabel(\"Latency (ms)\")\n",
    "\n",
    "# ax.legend(labels=[\"p99\", \"p99.9\", \"p99.99\"], title= \"Percentiles\")\n",
    "ax.legend(title= \"Percentile\")\n",
    "\n",
    "fig.tight_layout()\n",
    "# fig.savefig(plot_dir / file_name)"
   ]
  },
  {
   "cell_type": "code",
   "execution_count": 12,
   "metadata": {},
   "outputs": [
    {
     "data": {
      "text/plain": [
       "<seaborn.axisgrid.FacetGrid at 0x7f6b4315d9a0>"
      ]
     },
     "execution_count": 12,
     "metadata": {},
     "output_type": "execute_result"
    },
    {
     "data": {
      "image/png": "[encoded data removed]",
      "text/plain": [
       "<Figure size 790.975x720 with 4 Axes>"
      ]
     },
     "metadata": {
      "needs_background": "light"
     },
     "output_type": "display_data"
    }
   ],
   "source": [
    "sns.catplot(data=data, x=\"mesh\", y=\"latency\", hue=\"percentile\", col=\"requested_qps\", col_wrap=2, kind=\"bar\")"
   ]
  },
  {
   "cell_type": "code",
   "execution_count": 14,
   "metadata": {},
   "outputs": [
    {
     "data": {
      "text/plain": [
       "<seaborn.axisgrid.FacetGrid at 0x7f6b48ef5850>"
      ]
     },
     "execution_count": 14,
     "metadata": {},
     "output_type": "execute_result"
    },
    {
     "data": {
      "image/png": "[encoded data removed]",
      "text/plain": [
       "<Figure size 790.975x720 with 4 Axes>"
      ]
     },
     "metadata": {
      "needs_background": "light"
     },
     "output_type": "display_data"
    }
   ],
   "source": [
    "\n",
    "sns.catplot(data=data, x=\"mesh\", y=\"latency\", hue=\"percentile\", col=\"requested_qps\", col_wrap=2, order=[\"Baseline\", \"Cilium\", \"Istio\", \"Linkerd\"], kind=\"bar\")"
   ]
  }
 ],
 "metadata": {
  "kernelspec": {
   "display_name": "Python 3.8.10 64-bit",
   "language": "python",
   "name": "python3"
  },
  "language_info": {
   "codemirror_mode": {
    "name": "ipython",
    "version": 3
   },
   "file_extension": ".py",
   "mimetype": "text/x-python",
   "name": "python",
   "nbconvert_exporter": "python",
   "pygments_lexer": "ipython3",
   "version": "3.8.10"
  },
  "orig_nbformat": 4,
  "vscode": {
   "interpreter": {
    "hash": "31f2aee4e71d21fbe5cf8b01ff0e069b9275f58929596ceb00d14d90e3e16cd6"
   }
  }
 },
 "nbformat": 4,
 "nbformat_minor": 2
}
