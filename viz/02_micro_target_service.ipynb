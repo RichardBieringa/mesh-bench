{
 "cells": [
  {
   "cell_type": "code",
   "execution_count": 94,
   "metadata": {},
   "outputs": [],
   "source": [
    "import re\n",
    "import os\n",
    "import pathlib\n",
    "import json\n",
    "\n",
    "import numpy as np\n",
    "import pandas as pd\n",
    "import matplotlib.pyplot as plt\n",
    "import matplotlib.ticker as ticker\n",
    "from matplotlib import gridspec\n",
    "import seaborn as sns\n",
    "import warnings\n",
    "warnings.simplefilter(action='ignore', category=FutureWarning)\n",
    "sns.set_theme(style=\"darkgrid\")\n",
    "\n",
    "# Root of the project\n",
    "project_dir = pathlib.Path().resolve().parent\n",
    "\n",
    "# Directory containing experiment results\n",
    "results_dir = (pathlib.Path(project_dir) / \"results\").resolve()\n",
    "\n",
    "# Directory for tidied data (output directory)\n",
    "data_dir = (pathlib.Path(project_dir) / \"data\").resolve()\n",
    "\n",
    "# Directory to store all plots\n",
    "plot_dir = (pathlib.Path(project_dir) / \"plots\").resolve()"
   ]
  },
  {
   "cell_type": "code",
   "execution_count": 95,
   "metadata": {},
   "outputs": [
    {
     "data": {
      "text/html": [
       "<div>\n",
       "<style scoped>\n",
       "    .dataframe tbody tr th:only-of-type {\n",
       "        vertical-align: middle;\n",
       "    }\n",
       "\n",
       "    .dataframe tbody tr th {\n",
       "        vertical-align: top;\n",
       "    }\n",
       "\n",
       "    .dataframe thead th {\n",
       "        text-align: right;\n",
       "    }\n",
       "</style>\n",
       "<table border=\"1\" class=\"dataframe\">\n",
       "  <thead>\n",
       "    <tr style=\"text-align: right;\">\n",
       "      <th></th>\n",
       "      <th>requested_qps</th>\n",
       "      <th>actual_qps</th>\n",
       "    </tr>\n",
       "  </thead>\n",
       "  <tbody>\n",
       "    <tr>\n",
       "      <th>4</th>\n",
       "      <td>20k</td>\n",
       "      <td>19469.58</td>\n",
       "    </tr>\n",
       "    <tr>\n",
       "      <th>3</th>\n",
       "      <td>25k</td>\n",
       "      <td>24943.21</td>\n",
       "    </tr>\n",
       "    <tr>\n",
       "      <th>2</th>\n",
       "      <td>30k</td>\n",
       "      <td>29934.17</td>\n",
       "    </tr>\n",
       "    <tr>\n",
       "      <th>0</th>\n",
       "      <td>35k</td>\n",
       "      <td>34849.89</td>\n",
       "    </tr>\n",
       "    <tr>\n",
       "      <th>1</th>\n",
       "      <td>40k</td>\n",
       "      <td>39895.22</td>\n",
       "    </tr>\n",
       "  </tbody>\n",
       "</table>\n",
       "</div>"
      ],
      "text/plain": [
       "  requested_qps  actual_qps\n",
       "4           20k    19469.58\n",
       "3           25k    24943.21\n",
       "2           30k    29934.17\n",
       "0           35k    34849.89\n",
       "1           40k    39895.22"
      ]
     },
     "execution_count": 95,
     "metadata": {},
     "output_type": "execute_result"
    }
   ],
   "source": [
    "# Load microbench 02 (target service results count results)\n",
    "p = pathlib.Path(results_dir / \"micro-bench/02_target\")\n",
    "\n",
    "files = [x for x  in p.iterdir()]\n",
    "\n",
    "throughput_re = re.compile(\"Requests\\/sec:\\s+([0-9\\.]+)\\n\")\n",
    "\n",
    "requested_qps = []\n",
    "actual_qps = []\n",
    "for entry in files:\n",
    "    fname = entry.name\n",
    "    requested_qps.append(re.match(\"^wrk_(\\d+k)\\.out$\", fname)[1])\n",
    "\n",
    "    with open(entry) as f:\n",
    "        data = f.read()\n",
    "    \n",
    "    matches = throughput_re.findall(data)\n",
    "    actual_qps.append(float(matches[0]))\n",
    "\n",
    "df = pd.DataFrame(data={\n",
    "    \"requested_qps\": requested_qps,\n",
    "    \"actual_qps\": actual_qps,\n",
    "})\n",
    "\n",
    "df.dtypes\n",
    "\n",
    "df = df.sort_values(by=\"actual_qps\", axis=0)\n",
    "df.reindex()\n",
    "df.head()"
   ]
  },
  {
   "cell_type": "code",
   "execution_count": 96,
   "metadata": {},
   "outputs": [
    {
     "data": {
      "image/png": "[encoded data removed]",
      "text/plain": [
       "<Figure size 432x288 with 1 Axes>"
      ]
     },
     "metadata": {},
     "output_type": "display_data"
    }
   ],
   "source": [
    "\"\"\"Chart shows the maximum throughput of our target services\"\"\"\n",
    "\n",
    "fig, ax = plt.subplots()\n",
    "\n",
    "\n",
    "ax = sns.barplot(data=df, x=\"actual_qps\", y=\"requested_qps\", ax=ax)\n",
    "\n",
    "ax.set_xlim(0, 45000)\n",
    "\n",
    "# # Show numbers on top of bars\n",
    "ax.bar_label(ax.containers[0], label_type=\"edge\", fmt=\"%.0f\")\n",
    "\n",
    "ax.set_xlabel(\"Actual Throughput (Requests/s)\")\n",
    "ax.set_ylabel(\"Requested Throughput (Requests/s)\")\n",
    "ax.set_title(\"Requested Throughput vs Actual Throughput\")\n",
    "\n",
    "\n",
    "fig.tight_layout()\n",
    "fig.savefig(plot_dir / \"microbench-target-service.pdf\")\n"
   ]
  },
  {
   "cell_type": "code",
   "execution_count": null,
   "metadata": {},
   "outputs": [],
   "source": [
    "\"\"\"Chart shows the maximum throughput of our target services\"\"\"\n",
    "\n",
    "fig, ax = plt.subplots()\n",
    "\n",
    "\n",
    "ax = sns.scat(data=df, x=\"actual_qps\", y=\"requested_qps\", ax=ax)\n",
    "\n",
    "ax.set_xlim(0, 45000)\n",
    "\n",
    "# # Show numbers on top of bars\n",
    "ax.bar_label(ax.containers[0], label_type=\"edge\", fmt=\"%.0f\")\n",
    "\n",
    "ax.set_xlabel(\"Actual Throughput (Requests/s)\")\n",
    "ax.set_ylabel(\"Requested Throughput (Requests/s)\")\n",
    "ax.set_title(\"Requested Throughput vs Actual Throughput\")\n",
    "\n",
    "\n",
    "fig.tight_layout()\n",
    "# fig.savefig(plot_dir / \"microbench-target-service.pdf\")\n"
   ]
  }
 ],
 "metadata": {
  "kernelspec": {
   "display_name": "Python 3.8.10 64-bit",
   "language": "python",
   "name": "python3"
  },
  "language_info": {
   "codemirror_mode": {
    "name": "ipython",
    "version": 3
   },
   "file_extension": ".py",
   "mimetype": "text/x-python",
   "name": "python",
   "nbconvert_exporter": "python",
   "pygments_lexer": "ipython3",
   "version": "3.8.10"
  },
  "orig_nbformat": 4,
  "vscode": {
   "interpreter": {
    "hash": "31f2aee4e71d21fbe5cf8b01ff0e069b9275f58929596ceb00d14d90e3e16cd6"
   }
  }
 },
 "nbformat": 4,
 "nbformat_minor": 2
}
