{
 "cells": [
  {
   "cell_type": "code",
   "execution_count": 31,
   "metadata": {},
   "outputs": [],
   "source": [
    "import re\n",
    "import os\n",
    "import pathlib\n",
    "import json\n",
    "\n",
    "import numpy as np\n",
    "import pandas as pd\n",
    "import matplotlib.pyplot as plt\n",
    "import matplotlib.ticker as ticker\n",
    "from matplotlib import gridspec\n",
    "import seaborn as sns\n",
    "import warnings\n",
    "warnings.simplefilter(action='ignore', category=FutureWarning)\n",
    "sns.set_theme(style=\"darkgrid\")\n",
    "\n",
    "# Root of the project\n",
    "project_dir = pathlib.Path().resolve().parent\n",
    "\n",
    "# Directory containing experiment results\n",
    "results_dir = (pathlib.Path(project_dir) / \"results\").resolve()\n",
    "\n",
    "# Directory for tidied data (output directory)\n",
    "data_dir = (pathlib.Path(project_dir) / \"data\").resolve()\n",
    "\n",
    "# Directory to store all plots\n",
    "plot_dir = (pathlib.Path(project_dir) / \"plots\").resolve()"
   ]
  },
  {
   "cell_type": "code",
   "execution_count": 35,
   "metadata": {},
   "outputs": [],
   "source": [
    "\"\"\"Load cleaned/aggregated data sets\n",
    "\n",
    "Also fixes type hinting for pandas\n",
    "\n",
    "resource_df -> CPU/Mem utilization for experiments\n",
    "fortio_df -> Load test results from fortio\n",
    "\"\"\"\n",
    "\n",
    "resource_df = pd.read_csv(\n",
    "    data_dir / \"resource_results.csv\",\n",
    "    dtype={\n",
    "        \"experiment\": \"category\",\n",
    "        \"mesh\": \"category\",\n",
    "        \"requested_qps\": \"category\",\n",
    "        \"pod\": \"string\",\n",
    "        \"container\": \"string\",\n",
    "    },\n",
    "    parse_dates=[\"date\"],\n",
    ")\n",
    "\n",
    "\n",
    "fortio_df = pd.read_csv(\n",
    "    data_dir / \"fortio_results.csv\",\n",
    "    dtype={\n",
    "        \"experiment\": \"category\",\n",
    "        \"mesh\": \"category\",\n",
    "        \"requested_qps\": \"category\",\n",
    "        \"protocol\": \"category\",\n",
    "        \"payload\": \"category\",\n",
    "        \"actual_qps\": \"float64\",\n",
    "        \"start\": \"float64\",\n",
    "        \"end\": \"float64\",\n",
    "        \"count\": \"uint64\",\n",
    "    },\n",
    "    parse_dates=[\"date\"],\n",
    ")"
   ]
  }
 ],
 "metadata": {
  "kernelspec": {
   "display_name": "Python 3.8.10 64-bit",
   "language": "python",
   "name": "python3"
  },
  "language_info": {
   "codemirror_mode": {
    "name": "ipython",
    "version": 3
   },
   "file_extension": ".py",
   "mimetype": "text/x-python",
   "name": "python",
   "nbconvert_exporter": "python",
   "pygments_lexer": "ipython3",
   "version": "3.8.10"
  },
  "orig_nbformat": 4,
  "vscode": {
   "interpreter": {
    "hash": "31f2aee4e71d21fbe5cf8b01ff0e069b9275f58929596ceb00d14d90e3e16cd6"
   }
  }
 },
 "nbformat": 4,
 "nbformat_minor": 2
}
