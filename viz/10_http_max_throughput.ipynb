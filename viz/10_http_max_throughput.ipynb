{
 "cells": [
  {
   "cell_type": "code",
   "execution_count": 79,
   "metadata": {},
   "outputs": [],
   "source": [
    "import re\n",
    "import os\n",
    "import pathlib\n",
    "import json\n",
    "\n",
    "import numpy as np\n",
    "import pandas as pd\n",
    "import matplotlib.pyplot as plt\n",
    "import matplotlib.ticker as ticker\n",
    "from matplotlib import gridspec\n",
    "import seaborn as sns\n",
    "import warnings\n",
    "warnings.simplefilter(action='ignore', category=FutureWarning)\n",
    "sns.set_theme(style=\"darkgrid\")\n",
    "\n",
    "# Root of the project\n",
    "project_dir = pathlib.Path().resolve().parent\n",
    "\n",
    "# Directory containing experiment results\n",
    "results_dir = (pathlib.Path(project_dir) / \"results\").resolve()\n",
    "\n",
    "# Directory for tidied data (output directory)\n",
    "data_dir = (pathlib.Path(project_dir) / \"data\").resolve()\n",
    "\n",
    "# Directory to store all plots\n",
    "plot_dir = (pathlib.Path(project_dir) / \"plots\").resolve()"
   ]
  },
  {
   "cell_type": "code",
   "execution_count": 80,
   "metadata": {},
   "outputs": [],
   "source": [
    "\"\"\"Load cleaned/aggregated data sets\n",
    "\n",
    "Also fixes type hinting for pandas\n",
    "\n",
    "resource_df -> CPU/Mem utilization for experiments\n",
    "fortio_df -> Load test results from fortio\n",
    "\"\"\"\n",
    "\n",
    "resource_df = pd.read_csv(\n",
    "    data_dir / \"resource_results.csv\",\n",
    "    dtype={\n",
    "        # \"experiment\": \"category\",\n",
    "        # \"mesh\": \"category\",\n",
    "        # \"requested_qps\": \"category\",\n",
    "        \"pod\": \"string\",\n",
    "        \"container\": \"string\",\n",
    "    },\n",
    "    parse_dates=[\"date\"],\n",
    ")\n",
    "\n",
    "\n",
    "fortio_df = pd.read_csv(\n",
    "    data_dir / \"fortio_results.csv\",\n",
    "    dtype={\n",
    "        # \"experiment\": \"category\",\n",
    "        # # \"mesh\": \"category\",\n",
    "        # \"requested_qps\": \"category\",\n",
    "        # \"protocol\": \"category\",\n",
    "        # \"payload\": \"category\",\n",
    "        \"actual_qps\": \"float64\",\n",
    "        \"start\": \"float64\",\n",
    "        \"end\": \"float64\",\n",
    "        \"count\": \"uint64\",\n",
    "    },\n",
    "    parse_dates=[\"date\"],\n",
    ")"
   ]
  },
  {
   "cell_type": "code",
   "execution_count": 81,
   "metadata": {},
   "outputs": [
    {
     "data": {
      "text/html": [
       "<div>\n",
       "<style scoped>\n",
       "    .dataframe tbody tr th:only-of-type {\n",
       "        vertical-align: middle;\n",
       "    }\n",
       "\n",
       "    .dataframe tbody tr th {\n",
       "        vertical-align: top;\n",
       "    }\n",
       "\n",
       "    .dataframe thead th {\n",
       "        text-align: right;\n",
       "    }\n",
       "</style>\n",
       "<table border=\"1\" class=\"dataframe\">\n",
       "  <thead>\n",
       "    <tr style=\"text-align: right;\">\n",
       "      <th></th>\n",
       "      <th>mesh</th>\n",
       "      <th>actual_qps</th>\n",
       "    </tr>\n",
       "  </thead>\n",
       "  <tbody>\n",
       "    <tr>\n",
       "      <th>0</th>\n",
       "      <td>Baseline</td>\n",
       "      <td>21652.916972</td>\n",
       "    </tr>\n",
       "    <tr>\n",
       "      <th>1</th>\n",
       "      <td>Cilium</td>\n",
       "      <td>18009.233443</td>\n",
       "    </tr>\n",
       "    <tr>\n",
       "      <th>2</th>\n",
       "      <td>Linkerd</td>\n",
       "      <td>9756.589185</td>\n",
       "    </tr>\n",
       "    <tr>\n",
       "      <th>3</th>\n",
       "      <td>Istio</td>\n",
       "      <td>4324.863928</td>\n",
       "    </tr>\n",
       "    <tr>\n",
       "      <th>4</th>\n",
       "      <td>Traefik</td>\n",
       "      <td>565.807761</td>\n",
       "    </tr>\n",
       "  </tbody>\n",
       "</table>\n",
       "</div>"
      ],
      "text/plain": [
       "       mesh    actual_qps\n",
       "0  Baseline  21652.916972\n",
       "1    Cilium  18009.233443\n",
       "2   Linkerd   9756.589185\n",
       "3     Istio   4324.863928\n",
       "4   Traefik    565.807761"
      ]
     },
     "execution_count": 81,
     "metadata": {},
     "output_type": "execute_result"
    }
   ],
   "source": [
    "df = fortio_df[fortio_df[\"experiment\"] == \"01_http_max_throughput\"]\n",
    "\n",
    "df = df[[\"mesh\", \"actual_qps\"]].drop_duplicates()\n",
    "df = df.sort_values(by=\"actual_qps\", ascending=False)\n",
    "df = df.reset_index(drop=True)\n",
    "df"
   ]
  },
  {
   "cell_type": "code",
   "execution_count": 82,
   "metadata": {},
   "outputs": [
    {
     "data": {
      "image/png": "[encoded data removed]",
      "text/plain": [
       "<Figure size 432x288 with 1 Axes>"
      ]
     },
     "metadata": {},
     "output_type": "display_data"
    }
   ],
   "source": [
    "\"\"\"\n",
    "Chart to show the average throughput\n",
    "\"\"\"\n",
    "\n",
    "fig, ax = plt.subplots()\n",
    "ax = sns.barplot(data=df, x=\"actual_qps\", y=\"mesh\", ax=ax)\n",
    "\n",
    "ax.set_xlim(0, 25000)\n",
    "\n",
    "\n",
    "# # Show numbers on top of bars\n",
    "ax.bar_label(ax.containers[0], label_type=\"edge\", fmt=\"%.0f\")\n",
    "\n",
    "ax.set_xlabel(\"Actual Throughput (Requests/s)\")\n",
    "ax.set_ylabel(\"Service Mesh\")\n",
    "ax.set_title(\"Requested Throughput vs Actual Throughput\")\n",
    "\n",
    "\n",
    "fig.tight_layout()\n",
    "fig.savefig(plot_dir / \"exp-01_maximum_throughput_bar.pdf\")\n"
   ]
  }
 ],
 "metadata": {
  "kernelspec": {
   "display_name": "Python 3.8.10 64-bit",
   "language": "python",
   "name": "python3"
  },
  "language_info": {
   "codemirror_mode": {
    "name": "ipython",
    "version": 3
   },
   "file_extension": ".py",
   "mimetype": "text/x-python",
   "name": "python",
   "nbconvert_exporter": "python",
   "pygments_lexer": "ipython3",
   "version": "3.8.10"
  },
  "orig_nbformat": 4,
  "vscode": {
   "interpreter": {
    "hash": "31f2aee4e71d21fbe5cf8b01ff0e069b9275f58929596ceb00d14d90e3e16cd6"
   }
  }
 },
 "nbformat": 4,
 "nbformat_minor": 2
}
