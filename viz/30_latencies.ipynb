{
 "cells": [
  {
   "cell_type": "code",
   "execution_count": 1,
   "metadata": {},
   "outputs": [],
   "source": [
    "import re\n",
    "import os\n",
    "import pathlib\n",
    "import json\n",
    "\n",
    "import numpy as np\n",
    "import pandas as pd\n",
    "import matplotlib.pyplot as plt\n",
    "import matplotlib.ticker as ticker\n",
    "from matplotlib import gridspec\n",
    "import seaborn as sns\n",
    "import warnings\n",
    "warnings.simplefilter(action='ignore', category=FutureWarning)\n",
    "sns.set_theme(style=\"darkgrid\")\n",
    "\n",
    "# Root of the project\n",
    "project_dir = pathlib.Path().resolve().parent\n",
    "\n",
    "# Directory containing experiment results\n",
    "results_dir = (pathlib.Path(project_dir) / \"results\").resolve()\n",
    "\n",
    "# Directory for tidied data (output directory)\n",
    "data_dir = (pathlib.Path(project_dir) / \"data\").resolve()\n",
    "\n",
    "# Directory to store all plots\n",
    "plot_dir = (pathlib.Path(project_dir) / \"plots\").resolve()\n",
    "\n",
    "\n",
    "\n",
    "# Experiment constants\n",
    "exp_name = \"03_http_payload\"\n",
    "file_prefix = \"exp-03\""
   ]
  },
  {
   "cell_type": "code",
   "execution_count": 4,
   "metadata": {},
   "outputs": [
    {
     "data": {
      "text/html": [
       "<div>\n",
       "<style scoped>\n",
       "    .dataframe tbody tr th:only-of-type {\n",
       "        vertical-align: middle;\n",
       "    }\n",
       "\n",
       "    .dataframe tbody tr th {\n",
       "        vertical-align: top;\n",
       "    }\n",
       "\n",
       "    .dataframe thead th {\n",
       "        text-align: right;\n",
       "    }\n",
       "</style>\n",
       "<table border=\"1\" class=\"dataframe\">\n",
       "  <thead>\n",
       "    <tr style=\"text-align: right;\">\n",
       "      <th></th>\n",
       "      <th>experiment</th>\n",
       "      <th>mesh</th>\n",
       "      <th>requested_qps</th>\n",
       "      <th>protocol</th>\n",
       "      <th>payload</th>\n",
       "      <th>latency</th>\n",
       "    </tr>\n",
       "  </thead>\n",
       "  <tbody>\n",
       "    <tr>\n",
       "      <th>0</th>\n",
       "      <td>03_http_payload</td>\n",
       "      <td>Baseline</td>\n",
       "      <td>100</td>\n",
       "      <td>http</td>\n",
       "      <td>0</td>\n",
       "      <td>0.185654</td>\n",
       "    </tr>\n",
       "    <tr>\n",
       "      <th>1</th>\n",
       "      <td>03_http_payload</td>\n",
       "      <td>Baseline</td>\n",
       "      <td>100</td>\n",
       "      <td>http</td>\n",
       "      <td>0</td>\n",
       "      <td>0.134728</td>\n",
       "    </tr>\n",
       "    <tr>\n",
       "      <th>2</th>\n",
       "      <td>03_http_payload</td>\n",
       "      <td>Baseline</td>\n",
       "      <td>100</td>\n",
       "      <td>http</td>\n",
       "      <td>0</td>\n",
       "      <td>0.190527</td>\n",
       "    </tr>\n",
       "    <tr>\n",
       "      <th>3</th>\n",
       "      <td>03_http_payload</td>\n",
       "      <td>Baseline</td>\n",
       "      <td>100</td>\n",
       "      <td>http</td>\n",
       "      <td>0</td>\n",
       "      <td>0.197235</td>\n",
       "    </tr>\n",
       "    <tr>\n",
       "      <th>4</th>\n",
       "      <td>03_http_payload</td>\n",
       "      <td>Baseline</td>\n",
       "      <td>100</td>\n",
       "      <td>http</td>\n",
       "      <td>0</td>\n",
       "      <td>0.171697</td>\n",
       "    </tr>\n",
       "  </tbody>\n",
       "</table>\n",
       "</div>"
      ],
      "text/plain": [
       "        experiment      mesh requested_qps protocol payload   latency\n",
       "0  03_http_payload  Baseline           100     http       0  0.185654\n",
       "1  03_http_payload  Baseline           100     http       0  0.134728\n",
       "2  03_http_payload  Baseline           100     http       0  0.190527\n",
       "3  03_http_payload  Baseline           100     http       0  0.197235\n",
       "4  03_http_payload  Baseline           100     http       0  0.171697"
      ]
     },
     "execution_count": 4,
     "metadata": {},
     "output_type": "execute_result"
    }
   ],
   "source": [
    "\"\"\"Load and prepare the dataset\n",
    "\n",
    "resource_df -> CPU/Mem utilization for experiments\n",
    "fortio_df -> Load test results from fortio\n",
    "\"\"\"\n",
    "\n",
    "# df = pd.read_feather(data_dir / \"resource_results.feather\")\n",
    "df = pd.read_feather(data_dir / \"fortio_results.feather\")\n",
    "\n",
    "df = df[df[\"experiment\"] == exp_name]\n",
    "df = df.drop(\"actual_qps\", 1)\n",
    "df = df.explode(\"latency\")\n",
    "df = df.reset_index(drop=True)\n",
    "df = df.astype({\n",
    "    \"experiment\": \"category\",\n",
    "    \"mesh\": \"category\",\n",
    "    \"requested_qps\": \"category\",\n",
    "    \"payload\": \"category\",\n",
    "    \"protocol\": \"category\",\n",
    "    \"latency\": np.float64,\n",
    "})\n",
    "\n",
    "# df[\"requested_qps\"] = df[\"requested_qps\"].cat.reorder_categories([\"1\", \"100\", \"500\", \"1000\"])\n",
    "\n",
    "df = df.sort_values([\"mesh\", \"payload\"], ascending=True)\n",
    "\n",
    "df.head()"
   ]
  },
  {
   "cell_type": "code",
   "execution_count": 8,
   "metadata": {},
   "outputs": [
    {
     "data": {
      "image/png": "[encoded data removed]",
      "text/plain": [
       "<Figure size 921.6x345.6 with 1 Axes>"
      ]
     },
     "metadata": {
      "needs_background": "light"
     },
     "output_type": "display_data"
    }
   ],
   "source": [
    "\"\"\"\n",
    "PLOT: Boxplot latency by mesh\n",
    "Desc: Show 25p med 50p latencies\n",
    "\"\"\"\n",
    "\n",
    "file_name = f\"{file_prefix}-latency-log.pdf\"\n",
    "\n",
    "fig, ax = plt.subplots()\n",
    "# fig.set_size_inches([12.4, 6.4])\n",
    "fig.set_size_inches([12.8, 4.8])\n",
    "\n",
    "# data = df[(df[\"mesh\"] != \"Traefik\") & (df[\"requested_qps\"] != \"1000\")]\n",
    "# data = df.loc[~((df[\"mesh\"] == \"Traefik\") & (df[\"requested_qps\"] == \"1000\")),:]\n",
    "\n",
    "ax = sns.boxplot(data=df, x=\"latency\", y=\"mesh\", hue=\"payload\", showfliers=False)\n",
    "\n",
    "# Labels\n",
    "ax.set_ylabel(\"Service Mesh\")\n",
    "ax.set_xlabel(\"Latency (ms)\")\n",
    "\n",
    "# ax.set_xscale(\"log\")\n",
    "\n",
    "ax.legend(title=\"Payload (bytes)\")\n",
    "\n",
    "fig.tight_layout()\n",
    "fig.savefig(plot_dir / file_name)"
   ]
  },
  {
   "cell_type": "code",
   "execution_count": 11,
   "metadata": {},
   "outputs": [
    {
     "data": {
      "image/png": "[encoded data removed]",
      "text/plain": [
       "<Figure size 1080x360 with 3 Axes>"
      ]
     },
     "metadata": {
      "needs_background": "light"
     },
     "output_type": "display_data"
    }
   ],
   "source": [
    "\"\"\"\n",
    "PLOT: Latency distributions\n",
    "\"\"\"\n",
    "\n",
    "# Plotting\n",
    "file_name = f\"{file_prefix}-latencies-all.pdf\"\n",
    "\n",
    "g = sns.catplot(data=df, x=\"latency\", y=\"mesh\", col=\"payload\", col_wrap=3, kind=\"box\", showfliers=False)\n",
    "\n",
    "axes = g.axes.flatten()\n",
    "\n",
    "g.set_axis_labels(\"Latency (ms)\", \"Service Mesh\")\n",
    "# g.set_axis_labels(\"Service Mesh\",\"Latency (ms)\")\n",
    "# axes[0].set_title(\"1 Request/s\")\n",
    "# axes[1].set_title(\"100 Request/s\")\n",
    "# axes[2].set_title(\"500 Request/s\")\n",
    "# axes[3].set_title(\"1000 Request/s\")\n",
    "\n",
    "\n",
    "g.figure.savefig(plot_dir / file_name)"
   ]
  },
  {
   "cell_type": "code",
   "execution_count": 22,
   "metadata": {},
   "outputs": [
    {
     "data": {
      "text/html": [
       "<div>\n",
       "<style scoped>\n",
       "    .dataframe tbody tr th:only-of-type {\n",
       "        vertical-align: middle;\n",
       "    }\n",
       "\n",
       "    .dataframe tbody tr th {\n",
       "        vertical-align: top;\n",
       "    }\n",
       "\n",
       "    .dataframe thead th {\n",
       "        text-align: right;\n",
       "    }\n",
       "</style>\n",
       "<table border=\"1\" class=\"dataframe\">\n",
       "  <thead>\n",
       "    <tr style=\"text-align: right;\">\n",
       "      <th></th>\n",
       "      <th>mesh</th>\n",
       "      <th>payload</th>\n",
       "      <th>percentile</th>\n",
       "      <th>latency</th>\n",
       "    </tr>\n",
       "  </thead>\n",
       "  <tbody>\n",
       "    <tr>\n",
       "      <th>0</th>\n",
       "      <td>Baseline</td>\n",
       "      <td>0</td>\n",
       "      <td>99.00</td>\n",
       "      <td>1.581688</td>\n",
       "    </tr>\n",
       "    <tr>\n",
       "      <th>1</th>\n",
       "      <td>Baseline</td>\n",
       "      <td>0</td>\n",
       "      <td>99.90</td>\n",
       "      <td>46.985837</td>\n",
       "    </tr>\n",
       "    <tr>\n",
       "      <th>2</th>\n",
       "      <td>Baseline</td>\n",
       "      <td>0</td>\n",
       "      <td>99.99</td>\n",
       "      <td>93.102391</td>\n",
       "    </tr>\n",
       "    <tr>\n",
       "      <th>3</th>\n",
       "      <td>Baseline</td>\n",
       "      <td>1000</td>\n",
       "      <td>99.00</td>\n",
       "      <td>1.747834</td>\n",
       "    </tr>\n",
       "    <tr>\n",
       "      <th>4</th>\n",
       "      <td>Baseline</td>\n",
       "      <td>1000</td>\n",
       "      <td>99.90</td>\n",
       "      <td>51.136127</td>\n",
       "    </tr>\n",
       "  </tbody>\n",
       "</table>\n",
       "</div>"
      ],
      "text/plain": [
       "       mesh payload  percentile    latency\n",
       "0  Baseline       0       99.00   1.581688\n",
       "1  Baseline       0       99.90  46.985837\n",
       "2  Baseline       0       99.99  93.102391\n",
       "3  Baseline    1000       99.00   1.747834\n",
       "4  Baseline    1000       99.90  51.136127"
      ]
     },
     "execution_count": 22,
     "metadata": {},
     "output_type": "execute_result"
    }
   ],
   "source": [
    "# The quantiles to plot\n",
    "quantiles = [\n",
    "    0.99,\n",
    "    0.999,\n",
    "    0.9999\n",
    "]\n",
    "\n",
    "data = df.groupby([\"mesh\", \"payload\"])[\"latency\"].quantile(quantiles)\n",
    "data = data.reset_index().rename(columns={\"level_2\": \"percentile\"})\n",
    "data[\"percentile\"] *= 100\n",
    "data.head()"
   ]
  },
  {
   "cell_type": "code",
   "execution_count": 24,
   "metadata": {},
   "outputs": [
    {
     "data": {
      "image/png": "[encoded data removed]",
      "text/plain": [
       "<Figure size 1150.98x360 with 3 Axes>"
      ]
     },
     "metadata": {
      "needs_background": "light"
     },
     "output_type": "display_data"
    }
   ],
   "source": [
    "\"\"\"\n",
    "PLOT: Tail End Latencies\n",
    "\"\"\"\n",
    "\n",
    "# Plotting\n",
    "file_name = f\"{file_prefix}-tail-latencies-all.pdf\"\n",
    "\n",
    "g = sns.catplot(data=data, y=\"mesh\", x=\"latency\", hue=\"percentile\", col=\"payload\", col_wrap=3, kind=\"bar\")\n",
    "\n",
    "axes = g.axes.flatten()\n",
    "\n",
    "g.set_axis_labels(\"Latency (ms)\", \"Service Mesh\")\n",
    "# g.set_axis_labels(\"Service Mesh\",\"Latency (ms)\")\n",
    "# axes[0].set_title(\"1 Request/s\")\n",
    "# axes[1].set_title(\"100 Request/s\")\n",
    "# axes[2].set_title(\"500 Request/s\")\n",
    "# axes[3].set_title(\"1000 Request/s\")\n",
    "\n",
    "g.legend.set_title(\"Percentile\")\n",
    "\n",
    "g.figure.savefig(plot_dir / file_name)"
   ]
  }
 ],
 "metadata": {
  "kernelspec": {
   "display_name": "Python 3.8.10 64-bit",
   "language": "python",
   "name": "python3"
  },
  "language_info": {
   "codemirror_mode": {
    "name": "ipython",
    "version": 3
   },
   "file_extension": ".py",
   "mimetype": "text/x-python",
   "name": "python",
   "nbconvert_exporter": "python",
   "pygments_lexer": "ipython3",
   "version": "3.8.10"
  },
  "orig_nbformat": 4,
  "vscode": {
   "interpreter": {
    "hash": "31f2aee4e71d21fbe5cf8b01ff0e069b9275f58929596ceb00d14d90e3e16cd6"
   }
  }
 },
 "nbformat": 4,
 "nbformat_minor": 2
}
